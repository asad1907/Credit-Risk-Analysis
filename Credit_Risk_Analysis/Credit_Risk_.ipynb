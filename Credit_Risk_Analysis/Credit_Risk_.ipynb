{
 "cells": [
  {
   "cell_type": "code",
   "execution_count": 1,
   "id": "2f2121af-24b4-45d0-9222-706890ca750a",
   "metadata": {},
   "outputs": [],
   "source": [
    "import numpy as np\n",
    "import pandas as pd\n",
    "import seaborn as sns\n",
    "import matplotlib.pyplot as plt\n",
    "from sklearn.preprocessing import scale, StandardScaler, MinMaxScaler\n",
    "from sklearn.model_selection import train_test_split, GridSearchCV, cross_val_score\n",
    "from sklearn.metrics import confusion_matrix, accuracy_score, mean_squared_error, confusion_matrix, classification_report\n",
    "from sklearn.metrics import roc_auc_score, roc_curve\n",
    "from sklearn.linear_model import LogisticRegression\n",
    "from sklearn.neighbors import KNeighborsClassifier\n",
    "from sklearn.svm import SVC\n",
    "from sklearn import tree\n",
    "from sklearn.neural_network import MLPClassifier\n",
    "from sklearn.tree import DecisionTreeClassifier\n",
    "from sklearn.ensemble import RandomForestClassifier\n",
    "from sklearn.ensemble import GradientBoostingClassifier\n",
    "from lightgbm import LGBMClassifier"
   ]
  },
  {
   "cell_type": "code",
   "execution_count": 2,
   "id": "6769e376-fe8e-4c80-a0d4-b785887b5fed",
   "metadata": {},
   "outputs": [],
   "source": [
    "import warnings\n",
    "warnings.filterwarnings('ignore')"
   ]
  },
  {
   "cell_type": "code",
   "execution_count": 3,
   "id": "492ee815-ed77-4ea9-94bb-f10c8039e6e6",
   "metadata": {},
   "outputs": [
    {
     "data": {
      "text/html": [
       "<div>\n",
       "<style scoped>\n",
       "    .dataframe tbody tr th:only-of-type {\n",
       "        vertical-align: middle;\n",
       "    }\n",
       "\n",
       "    .dataframe tbody tr th {\n",
       "        vertical-align: top;\n",
       "    }\n",
       "\n",
       "    .dataframe thead th {\n",
       "        text-align: right;\n",
       "    }\n",
       "</style>\n",
       "<table border=\"1\" class=\"dataframe\">\n",
       "  <thead>\n",
       "    <tr style=\"text-align: right;\">\n",
       "      <th></th>\n",
       "      <th>Loan_ID</th>\n",
       "      <th>Gender</th>\n",
       "      <th>Married</th>\n",
       "      <th>Dependents</th>\n",
       "      <th>Education</th>\n",
       "      <th>Self_Employed</th>\n",
       "      <th>ApplicantIncome</th>\n",
       "      <th>CoapplicantIncome</th>\n",
       "      <th>LoanAmount</th>\n",
       "      <th>Loan_Amount_Term</th>\n",
       "      <th>Credit_History</th>\n",
       "      <th>Property_Area</th>\n",
       "      <th>Loan_Status</th>\n",
       "    </tr>\n",
       "  </thead>\n",
       "  <tbody>\n",
       "    <tr>\n",
       "      <th>0</th>\n",
       "      <td>LP001002</td>\n",
       "      <td>Male</td>\n",
       "      <td>No</td>\n",
       "      <td>0</td>\n",
       "      <td>Graduate</td>\n",
       "      <td>No</td>\n",
       "      <td>5849</td>\n",
       "      <td>0.0</td>\n",
       "      <td>NaN</td>\n",
       "      <td>360.0</td>\n",
       "      <td>1.0</td>\n",
       "      <td>Urban</td>\n",
       "      <td>Y</td>\n",
       "    </tr>\n",
       "    <tr>\n",
       "      <th>1</th>\n",
       "      <td>LP001003</td>\n",
       "      <td>Male</td>\n",
       "      <td>Yes</td>\n",
       "      <td>1</td>\n",
       "      <td>Graduate</td>\n",
       "      <td>No</td>\n",
       "      <td>4583</td>\n",
       "      <td>1508.0</td>\n",
       "      <td>128.0</td>\n",
       "      <td>360.0</td>\n",
       "      <td>1.0</td>\n",
       "      <td>Rural</td>\n",
       "      <td>N</td>\n",
       "    </tr>\n",
       "    <tr>\n",
       "      <th>2</th>\n",
       "      <td>LP001005</td>\n",
       "      <td>Male</td>\n",
       "      <td>Yes</td>\n",
       "      <td>0</td>\n",
       "      <td>Graduate</td>\n",
       "      <td>Yes</td>\n",
       "      <td>3000</td>\n",
       "      <td>0.0</td>\n",
       "      <td>66.0</td>\n",
       "      <td>360.0</td>\n",
       "      <td>1.0</td>\n",
       "      <td>Urban</td>\n",
       "      <td>Y</td>\n",
       "    </tr>\n",
       "    <tr>\n",
       "      <th>3</th>\n",
       "      <td>LP001006</td>\n",
       "      <td>Male</td>\n",
       "      <td>Yes</td>\n",
       "      <td>0</td>\n",
       "      <td>Not Graduate</td>\n",
       "      <td>No</td>\n",
       "      <td>2583</td>\n",
       "      <td>2358.0</td>\n",
       "      <td>120.0</td>\n",
       "      <td>360.0</td>\n",
       "      <td>1.0</td>\n",
       "      <td>Urban</td>\n",
       "      <td>Y</td>\n",
       "    </tr>\n",
       "    <tr>\n",
       "      <th>4</th>\n",
       "      <td>LP001008</td>\n",
       "      <td>Male</td>\n",
       "      <td>No</td>\n",
       "      <td>0</td>\n",
       "      <td>Graduate</td>\n",
       "      <td>No</td>\n",
       "      <td>6000</td>\n",
       "      <td>0.0</td>\n",
       "      <td>141.0</td>\n",
       "      <td>360.0</td>\n",
       "      <td>1.0</td>\n",
       "      <td>Urban</td>\n",
       "      <td>Y</td>\n",
       "    </tr>\n",
       "  </tbody>\n",
       "</table>\n",
       "</div>"
      ],
      "text/plain": [
       "    Loan_ID Gender Married Dependents     Education Self_Employed  \\\n",
       "0  LP001002   Male      No          0      Graduate            No   \n",
       "1  LP001003   Male     Yes          1      Graduate            No   \n",
       "2  LP001005   Male     Yes          0      Graduate           Yes   \n",
       "3  LP001006   Male     Yes          0  Not Graduate            No   \n",
       "4  LP001008   Male      No          0      Graduate            No   \n",
       "\n",
       "   ApplicantIncome  CoapplicantIncome  LoanAmount  Loan_Amount_Term  \\\n",
       "0             5849                0.0         NaN             360.0   \n",
       "1             4583             1508.0       128.0             360.0   \n",
       "2             3000                0.0        66.0             360.0   \n",
       "3             2583             2358.0       120.0             360.0   \n",
       "4             6000                0.0       141.0             360.0   \n",
       "\n",
       "   Credit_History Property_Area Loan_Status  \n",
       "0             1.0         Urban           Y  \n",
       "1             1.0         Rural           N  \n",
       "2             1.0         Urban           Y  \n",
       "3             1.0         Urban           Y  \n",
       "4             1.0         Urban           Y  "
      ]
     },
     "execution_count": 3,
     "metadata": {},
     "output_type": "execute_result"
    }
   ],
   "source": [
    "# Reading Credit_Risk dataset\n",
    "df = pd.read_csv('Credit_Risk.csv')\n",
    "df.head()"
   ]
  },
  {
   "cell_type": "code",
   "execution_count": 4,
   "id": "b9f38096-88bf-41dd-bfe4-e52f5a3b0f97",
   "metadata": {},
   "outputs": [
    {
     "data": {
      "text/plain": [
       "(614, 13)"
      ]
     },
     "execution_count": 4,
     "metadata": {},
     "output_type": "execute_result"
    }
   ],
   "source": [
    "# Shape of our dataset\n",
    "df.shape"
   ]
  },
  {
   "cell_type": "code",
   "execution_count": 5,
   "id": "be57ff3d-a9e6-482d-8d40-b15b6708bcb0",
   "metadata": {},
   "outputs": [
    {
     "name": "stdout",
     "output_type": "stream",
     "text": [
      "<class 'pandas.core.frame.DataFrame'>\n",
      "RangeIndex: 614 entries, 0 to 613\n",
      "Data columns (total 13 columns):\n",
      " #   Column             Non-Null Count  Dtype  \n",
      "---  ------             --------------  -----  \n",
      " 0   Loan_ID            614 non-null    object \n",
      " 1   Gender             601 non-null    object \n",
      " 2   Married            611 non-null    object \n",
      " 3   Dependents         599 non-null    object \n",
      " 4   Education          614 non-null    object \n",
      " 5   Self_Employed      582 non-null    object \n",
      " 6   ApplicantIncome    614 non-null    int64  \n",
      " 7   CoapplicantIncome  614 non-null    float64\n",
      " 8   LoanAmount         592 non-null    float64\n",
      " 9   Loan_Amount_Term   600 non-null    float64\n",
      " 10  Credit_History     564 non-null    float64\n",
      " 11  Property_Area      614 non-null    object \n",
      " 12  Loan_Status        614 non-null    object \n",
      "dtypes: float64(4), int64(1), object(8)\n",
      "memory usage: 62.5+ KB\n"
     ]
    }
   ],
   "source": [
    "df.info()"
   ]
  },
  {
   "cell_type": "code",
   "execution_count": 6,
   "id": "a2a9354c-5530-403d-b376-d78454a00ce8",
   "metadata": {},
   "outputs": [
    {
     "data": {
      "text/html": [
       "<div>\n",
       "<style scoped>\n",
       "    .dataframe tbody tr th:only-of-type {\n",
       "        vertical-align: middle;\n",
       "    }\n",
       "\n",
       "    .dataframe tbody tr th {\n",
       "        vertical-align: top;\n",
       "    }\n",
       "\n",
       "    .dataframe thead th {\n",
       "        text-align: right;\n",
       "    }\n",
       "</style>\n",
       "<table border=\"1\" class=\"dataframe\">\n",
       "  <thead>\n",
       "    <tr style=\"text-align: right;\">\n",
       "      <th></th>\n",
       "      <th>count</th>\n",
       "      <th>mean</th>\n",
       "      <th>std</th>\n",
       "      <th>min</th>\n",
       "      <th>25%</th>\n",
       "      <th>50%</th>\n",
       "      <th>75%</th>\n",
       "      <th>max</th>\n",
       "    </tr>\n",
       "  </thead>\n",
       "  <tbody>\n",
       "    <tr>\n",
       "      <th>ApplicantIncome</th>\n",
       "      <td>614.0</td>\n",
       "      <td>5403.459283</td>\n",
       "      <td>6109.041673</td>\n",
       "      <td>150.0</td>\n",
       "      <td>2877.5</td>\n",
       "      <td>3812.5</td>\n",
       "      <td>5795.00</td>\n",
       "      <td>81000.0</td>\n",
       "    </tr>\n",
       "    <tr>\n",
       "      <th>CoapplicantIncome</th>\n",
       "      <td>614.0</td>\n",
       "      <td>1621.245798</td>\n",
       "      <td>2926.248369</td>\n",
       "      <td>0.0</td>\n",
       "      <td>0.0</td>\n",
       "      <td>1188.5</td>\n",
       "      <td>2297.25</td>\n",
       "      <td>41667.0</td>\n",
       "    </tr>\n",
       "    <tr>\n",
       "      <th>LoanAmount</th>\n",
       "      <td>592.0</td>\n",
       "      <td>146.412162</td>\n",
       "      <td>85.587325</td>\n",
       "      <td>9.0</td>\n",
       "      <td>100.0</td>\n",
       "      <td>128.0</td>\n",
       "      <td>168.00</td>\n",
       "      <td>700.0</td>\n",
       "    </tr>\n",
       "    <tr>\n",
       "      <th>Loan_Amount_Term</th>\n",
       "      <td>600.0</td>\n",
       "      <td>342.000000</td>\n",
       "      <td>65.120410</td>\n",
       "      <td>12.0</td>\n",
       "      <td>360.0</td>\n",
       "      <td>360.0</td>\n",
       "      <td>360.00</td>\n",
       "      <td>480.0</td>\n",
       "    </tr>\n",
       "    <tr>\n",
       "      <th>Credit_History</th>\n",
       "      <td>564.0</td>\n",
       "      <td>0.842199</td>\n",
       "      <td>0.364878</td>\n",
       "      <td>0.0</td>\n",
       "      <td>1.0</td>\n",
       "      <td>1.0</td>\n",
       "      <td>1.00</td>\n",
       "      <td>1.0</td>\n",
       "    </tr>\n",
       "  </tbody>\n",
       "</table>\n",
       "</div>"
      ],
      "text/plain": [
       "                   count         mean          std    min     25%     50%  \\\n",
       "ApplicantIncome    614.0  5403.459283  6109.041673  150.0  2877.5  3812.5   \n",
       "CoapplicantIncome  614.0  1621.245798  2926.248369    0.0     0.0  1188.5   \n",
       "LoanAmount         592.0   146.412162    85.587325    9.0   100.0   128.0   \n",
       "Loan_Amount_Term   600.0   342.000000    65.120410   12.0   360.0   360.0   \n",
       "Credit_History     564.0     0.842199     0.364878    0.0     1.0     1.0   \n",
       "\n",
       "                       75%      max  \n",
       "ApplicantIncome    5795.00  81000.0  \n",
       "CoapplicantIncome  2297.25  41667.0  \n",
       "LoanAmount          168.00    700.0  \n",
       "Loan_Amount_Term    360.00    480.0  \n",
       "Credit_History        1.00      1.0  "
      ]
     },
     "execution_count": 6,
     "metadata": {},
     "output_type": "execute_result"
    }
   ],
   "source": [
    "# Some statistics of dataset\n",
    "df.describe().T"
   ]
  },
  {
   "cell_type": "code",
   "execution_count": 7,
   "id": "c60e6885-b21d-424d-86dd-95b119e29bb3",
   "metadata": {},
   "outputs": [
    {
     "data": {
      "text/plain": [
       "0"
      ]
     },
     "execution_count": 7,
     "metadata": {},
     "output_type": "execute_result"
    }
   ],
   "source": [
    "# Count of duplicated values\n",
    "df.duplicated().sum()"
   ]
  },
  {
   "cell_type": "code",
   "execution_count": 8,
   "id": "bd8031a2-81ba-4184-a012-2de6b03307d3",
   "metadata": {},
   "outputs": [
    {
     "data": {
      "text/plain": [
       "Loan_ID               0\n",
       "Gender               13\n",
       "Married               3\n",
       "Dependents           15\n",
       "Education             0\n",
       "Self_Employed        32\n",
       "ApplicantIncome       0\n",
       "CoapplicantIncome     0\n",
       "LoanAmount           22\n",
       "Loan_Amount_Term     14\n",
       "Credit_History       50\n",
       "Property_Area         0\n",
       "Loan_Status           0\n",
       "dtype: int64"
      ]
     },
     "execution_count": 8,
     "metadata": {},
     "output_type": "execute_result"
    }
   ],
   "source": [
    "# Count of missing values\n",
    "df.isnull().sum()"
   ]
  },
  {
   "cell_type": "code",
   "execution_count": null,
   "id": "e6cfcad7-f19c-434c-9bfb-fff2ffcaf187",
   "metadata": {},
   "outputs": [],
   "source": []
  },
  {
   "cell_type": "code",
   "execution_count": 9,
   "id": "381d6631-483d-46f2-a6f0-1ad59bafd282",
   "metadata": {},
   "outputs": [],
   "source": [
    "# Filling missing values for each coulumns \n",
    "# I filled missing values of categoric features with their mode (with the largest number of class) \n",
    "# I filled missing values of numerical features with their median, because all of them dont distribute normally\n",
    "df['Gender'].fillna(df['Gender'].value_counts().index[0], inplace = True)\n",
    "df['Married'].fillna(df['Married'].value_counts().index[0], inplace = True)\n",
    "df['Dependents'].fillna(df['Dependents'].value_counts().index[0], inplace = True)\n",
    "df['Self_Employed'].fillna(df['Self_Employed'].value_counts().index[0], inplace = True)\n",
    "df['LoanAmount'].fillna(df['LoanAmount'].median(), inplace = True)\n",
    "df['Loan_Amount_Term'].fillna(df['Loan_Amount_Term'].median(), inplace = True)\n",
    "df['Credit_History'].fillna(df['Credit_History'].value_counts().index[0], inplace = True)"
   ]
  },
  {
   "cell_type": "code",
   "execution_count": 10,
   "id": "50e91a93-0f26-4246-8770-2cd89aa6e1d5",
   "metadata": {},
   "outputs": [
    {
     "data": {
      "text/plain": [
       "Loan_ID              0\n",
       "Gender               0\n",
       "Married              0\n",
       "Dependents           0\n",
       "Education            0\n",
       "Self_Employed        0\n",
       "ApplicantIncome      0\n",
       "CoapplicantIncome    0\n",
       "LoanAmount           0\n",
       "Loan_Amount_Term     0\n",
       "Credit_History       0\n",
       "Property_Area        0\n",
       "Loan_Status          0\n",
       "dtype: int64"
      ]
     },
     "execution_count": 10,
     "metadata": {},
     "output_type": "execute_result"
    }
   ],
   "source": [
    "df.isnull().sum()"
   ]
  },
  {
   "cell_type": "code",
   "execution_count": null,
   "id": "880fc0cf-c3e0-4281-8880-8b07e9ea3a62",
   "metadata": {},
   "outputs": [],
   "source": []
  },
  {
   "cell_type": "markdown",
   "id": "e60e813a-dc82-4379-9d89-79ab65c41281",
   "metadata": {},
   "source": [
    "\n",
    "### Visualization"
   ]
  },
  {
   "cell_type": "code",
   "execution_count": 16,
   "id": "d143ee42-fbb5-4038-a0ea-8875aa6c2685",
   "metadata": {},
   "outputs": [
    {
     "data": {
      "image/png": "[encoded data removed]",
      "text/plain": [
       "<Figure size 1080x1080 with 9 Axes>"
      ]
     },
     "metadata": {
      "needs_background": "light"
     },
     "output_type": "display_data"
    }
   ],
   "source": [
    "#On the figures below we can see the number of classes of categorical variables with considering Loan_Status\n",
    "fig, ax =plt.subplots(3,3, figsize = (15,15))\n",
    "sns.countplot(df['Gender'], hue = df['Loan_Status'], ax=ax[0,0])\n",
    "sns.countplot(df['Married'], hue = df['Loan_Status'], ax=ax[0,1])\n",
    "sns.countplot(df['Dependents'], hue = df['Loan_Status'], ax=ax[0,2])\n",
    "sns.countplot(df['Education'], hue = df['Loan_Status'], ax=ax[1,0])\n",
    "sns.countplot(df['Self_Employed'], hue = df['Loan_Status'], ax=ax[1,1])\n",
    "sns.countplot(df['Credit_History'], hue = df['Loan_Status'], ax=ax[1,2])\n",
    "sns.countplot(df['Property_Area'], hue = df['Loan_Status'], ax=ax[2,0])\n",
    "fig.show()"
   ]
  },
  {
   "cell_type": "code",
   "execution_count": 17,
   "id": "598c88fa-c2ad-496f-87c1-013bca5ba352",
   "metadata": {},
   "outputs": [
    {
     "data": {
      "image/png": "[encoded data removed]",
      "text/plain": [
       "<Figure size 432x288 with 1 Axes>"
      ]
     },
     "metadata": {
      "needs_background": "light"
     },
     "output_type": "display_data"
    }
   ],
   "source": [
    "# Counts of classes of Loan_Status. It is clear that Y (who can get loan) is almost two times larger than N (who can not get loan)\n",
    "sns.countplot(df['Loan_Status']);"
   ]
  },
  {
   "cell_type": "code",
   "execution_count": 18,
   "id": "3b69ddda-42ce-4f1a-b224-ed79d16bd20c",
   "metadata": {},
   "outputs": [
    {
     "data": {
      "image/png": "[encoded data removed]",
      "text/plain": [
       "<Figure size 360x360 with 1 Axes>"
      ]
     },
     "metadata": {
      "needs_background": "light"
     },
     "output_type": "display_data"
    }
   ],
   "source": [
    "# On the figures below, we can see distributions of ApplicantIncome, CoapplicantIncome, LoanAmount and Loan_Amount_Term respectively\n",
    "# It is clear that distributions of these features are not normal.\n",
    "sns.displot(data = df, x = 'ApplicantIncome', kde = True, color = 'skyblue');"
   ]
  },
  {
   "cell_type": "code",
   "execution_count": 19,
   "id": "5f13f64a-e084-4749-b7dd-f4d2fa8c6bd5",
   "metadata": {},
   "outputs": [
    {
     "data": {
      "image/png": "[encoded data removed]",
      "text/plain": [
       "<Figure size 360x360 with 1 Axes>"
      ]
     },
     "metadata": {
      "needs_background": "light"
     },
     "output_type": "display_data"
    }
   ],
   "source": [
    "sns.displot(data = df, x = 'CoapplicantIncome', kde = True, color = 'olive');"
   ]
  },
  {
   "cell_type": "code",
   "execution_count": 20,
   "id": "40835665-9c29-4962-a55f-c728a330107f",
   "metadata": {},
   "outputs": [
    {
     "data": {
      "image/png": "[encoded data removed]",
      "text/plain": [
       "<Figure size 360x360 with 1 Axes>"
      ]
     },
     "metadata": {
      "needs_background": "light"
     },
     "output_type": "display_data"
    }
   ],
   "source": [
    "sns.displot(data = df, x = 'LoanAmount', kde = True, color = 'gold');"
   ]
  },
  {
   "cell_type": "code",
   "execution_count": 21,
   "id": "d03c3b6c-162b-49ea-9ec3-bca897af3d41",
   "metadata": {},
   "outputs": [
    {
     "data": {
      "image/png": "[encoded data removed]",
      "text/plain": [
       "<Figure size 360x360 with 1 Axes>"
      ]
     },
     "metadata": {
      "needs_background": "light"
     },
     "output_type": "display_data"
    }
   ],
   "source": [
    "sns.displot(data = df, x = 'Loan_Amount_Term', kde = True, color = 'teal');"
   ]
  },
  {
   "cell_type": "code",
   "execution_count": null,
   "id": "cbb95211-83eb-4d0a-a425-bb54ca88db95",
   "metadata": {},
   "outputs": [],
   "source": []
  },
  {
   "cell_type": "markdown",
   "id": "301c0c7b-1128-4401-b2db-36594aa09df2",
   "metadata": {},
   "source": [
    "### Outlier detection and treatment with BoxPLot method"
   ]
  },
  {
   "cell_type": "code",
   "execution_count": 22,
   "id": "fecde60b-04fe-47ad-a2d6-2531e2bb98fc",
   "metadata": {},
   "outputs": [
    {
     "data": {
      "image/png": "[encoded data removed]",
      "text/plain": [
       "<Figure size 432x288 with 1 Axes>"
      ]
     },
     "metadata": {
      "needs_background": "light"
     },
     "output_type": "display_data"
    }
   ],
   "source": [
    "# For ApplicantIncome\n",
    "sns.boxplot(df['ApplicantIncome']);"
   ]
  },
  {
   "cell_type": "code",
   "execution_count": 23,
   "id": "abd3b4ff-8689-4a05-8c31-5d5489ed04be",
   "metadata": {},
   "outputs": [
    {
     "name": "stdout",
     "output_type": "stream",
     "text": [
      "Q1  2877.5\n",
      "Q3  5795.0\n",
      "IQR  2917.5\n"
     ]
    }
   ],
   "source": [
    "Q1 = df['ApplicantIncome'].quantile(0.25)\n",
    "Q3 = df['ApplicantIncome'].quantile(0.75)\n",
    "IQR = Q3-Q1\n",
    "print(\"Q1 \", Q1)\n",
    "print(\"Q3 \", Q3)\n",
    "print(\"IQR \", IQR)"
   ]
  },
  {
   "cell_type": "code",
   "execution_count": 24,
   "id": "8e7140ab-e454-42a4-b833-a43f09cb248d",
   "metadata": {},
   "outputs": [
    {
     "name": "stdout",
     "output_type": "stream",
     "text": [
      "Down:  -1498.75\n",
      "Up:  10171.25\n"
     ]
    }
   ],
   "source": [
    "down = Q1 - 1.5*IQR\n",
    "up = Q3 + 1.5*IQR\n",
    "print(\"Down: \", down)\n",
    "print(\"Up: \", up)"
   ]
  },
  {
   "cell_type": "code",
   "execution_count": 25,
   "id": "f4ed9293-a238-427a-b04d-7f278074db6e",
   "metadata": {
    "collapsed": true,
    "jupyter": {
     "outputs_hidden": true
    },
    "tags": []
   },
   "outputs": [
    {
     "data": {
      "text/plain": [
       "0      False\n",
       "1      False\n",
       "2      False\n",
       "3      False\n",
       "4      False\n",
       "       ...  \n",
       "609    False\n",
       "610    False\n",
       "611    False\n",
       "612    False\n",
       "613    False\n",
       "Name: ApplicantIncome, Length: 614, dtype: bool"
      ]
     },
     "execution_count": 25,
     "metadata": {},
     "output_type": "execute_result"
    }
   ],
   "source": [
    "outliers = df['ApplicantIncome']>up\n",
    "outliers"
   ]
  },
  {
   "cell_type": "code",
   "execution_count": 26,
   "id": "b2ae08a4-e8ed-4270-83dd-605241d0bdb3",
   "metadata": {},
   "outputs": [
    {
     "data": {
      "text/plain": [
       "Int64Index([  9,  34,  54,  67, 102, 106, 115, 119, 126, 128, 130, 138, 144,\n",
       "            146, 155, 171, 183, 185, 191, 199, 254, 258, 271, 278, 284, 308,\n",
       "            324, 333, 369, 370, 409, 424, 432, 438, 443, 467, 475, 478, 483,\n",
       "            487, 493, 506, 509, 525, 533, 534, 561, 572, 594, 604],\n",
       "           dtype='int64')"
      ]
     },
     "execution_count": 26,
     "metadata": {},
     "output_type": "execute_result"
    }
   ],
   "source": [
    "df[outliers].index"
   ]
  },
  {
   "cell_type": "code",
   "execution_count": 27,
   "id": "454bf69f-6208-4391-8d1c-562582ad44a6",
   "metadata": {},
   "outputs": [],
   "source": [
    "df.loc[df[outliers].index, 'ApplicantIncome'] = up"
   ]
  },
  {
   "cell_type": "code",
   "execution_count": null,
   "id": "ae897271-c804-469a-805c-71e6129263c7",
   "metadata": {},
   "outputs": [],
   "source": []
  },
  {
   "cell_type": "code",
   "execution_count": 28,
   "id": "c245d2e9-4bc7-41bb-8477-9d75583606be",
   "metadata": {},
   "outputs": [
    {
     "data": {
      "image/png": "[encoded data removed]",
      "text/plain": [
       "<Figure size 432x288 with 1 Axes>"
      ]
     },
     "metadata": {
      "needs_background": "light"
     },
     "output_type": "display_data"
    }
   ],
   "source": [
    "# For CoapplicantIncome\n",
    "sns.boxplot(df['CoapplicantIncome']);"
   ]
  },
  {
   "cell_type": "code",
   "execution_count": 29,
   "id": "e7229891-cb05-411c-844b-f4081f7eace6",
   "metadata": {},
   "outputs": [
    {
     "name": "stdout",
     "output_type": "stream",
     "text": [
      "Q1_CI  0.0\n",
      "Q3_CI  2297.25\n",
      "IQR  2297.25\n"
     ]
    }
   ],
   "source": [
    "Q1_CI = df['CoapplicantIncome'].quantile(0.25)\n",
    "Q3_CI = df['CoapplicantIncome'].quantile(0.75)\n",
    "IQR_CI = Q3_CI-Q1_CI\n",
    "print(\"Q1_CI \", Q1_CI)\n",
    "print(\"Q3_CI \", Q3_CI)\n",
    "print(\"IQR \", IQR_CI)"
   ]
  },
  {
   "cell_type": "code",
   "execution_count": 30,
   "id": "c2e56d3e-36f9-43c1-9def-0bafd5e0586f",
   "metadata": {},
   "outputs": [
    {
     "name": "stdout",
     "output_type": "stream",
     "text": [
      "Down:  -3445.875\n",
      "Up:  5743.125\n"
     ]
    }
   ],
   "source": [
    "down_CI = Q1_CI - 1.5*IQR_CI\n",
    "up_CI = Q3_CI + 1.5*IQR_CI\n",
    "print(\"Down: \", down_CI)\n",
    "print(\"Up: \", up_CI)"
   ]
  },
  {
   "cell_type": "code",
   "execution_count": 31,
   "id": "92d4fce6-1e29-4e0a-b555-8f6f5b8972eb",
   "metadata": {
    "tags": []
   },
   "outputs": [
    {
     "data": {
      "text/plain": [
       "0      False\n",
       "1      False\n",
       "2      False\n",
       "3      False\n",
       "4      False\n",
       "       ...  \n",
       "609    False\n",
       "610    False\n",
       "611    False\n",
       "612    False\n",
       "613    False\n",
       "Name: CoapplicantIncome, Length: 614, dtype: bool"
      ]
     },
     "execution_count": 31,
     "metadata": {},
     "output_type": "execute_result"
    }
   ],
   "source": [
    "outliers_CI = df['CoapplicantIncome']>up_CI\n",
    "outliers_CI"
   ]
  },
  {
   "cell_type": "code",
   "execution_count": 32,
   "id": "26bf7abd-d92e-4f15-9654-9f3963cb1769",
   "metadata": {},
   "outputs": [
    {
     "data": {
      "text/plain": [
       "Int64Index([  9,  12,  38, 122, 135, 177, 180, 253, 349, 372, 402, 417, 444,\n",
       "            506, 513, 523, 581, 600],\n",
       "           dtype='int64')"
      ]
     },
     "execution_count": 32,
     "metadata": {},
     "output_type": "execute_result"
    }
   ],
   "source": [
    "df[outliers_CI].index"
   ]
  },
  {
   "cell_type": "code",
   "execution_count": 33,
   "id": "9c1246ff-d47b-4a5c-b818-994d2a6e2b78",
   "metadata": {},
   "outputs": [],
   "source": [
    "df.loc[df[outliers_CI].index, 'CoapplicantIncome'] = up_CI"
   ]
  },
  {
   "cell_type": "code",
   "execution_count": null,
   "id": "fea7512e-4ab9-42d6-be75-2f436452a558",
   "metadata": {},
   "outputs": [],
   "source": []
  },
  {
   "cell_type": "code",
   "execution_count": 34,
   "id": "7aa71672-9020-4f5e-8a1a-7158aa206ef3",
   "metadata": {},
   "outputs": [
    {
     "data": {
      "image/png": "[encoded data removed]",
      "text/plain": [
       "<Figure size 432x288 with 1 Axes>"
      ]
     },
     "metadata": {
      "needs_background": "light"
     },
     "output_type": "display_data"
    }
   ],
   "source": [
    "# For LoanAmount\n",
    "sns.boxplot(df['LoanAmount']);"
   ]
  },
  {
   "cell_type": "code",
   "execution_count": 35,
   "id": "56de4043-f16e-419c-b858-d57e077568fb",
   "metadata": {},
   "outputs": [
    {
     "name": "stdout",
     "output_type": "stream",
     "text": [
      "Q1_LA  100.25\n",
      "Q3_LA  164.75\n",
      "IQR_LA  64.5\n"
     ]
    }
   ],
   "source": [
    "Q1_LA = df['LoanAmount'].quantile(0.25)\n",
    "Q3_LA = df['LoanAmount'].quantile(0.75)\n",
    "IQR_LA = Q3_LA-Q1_LA\n",
    "print(\"Q1_LA \", Q1_LA)\n",
    "print(\"Q3_LA \", Q3_LA)\n",
    "print(\"IQR_LA \", IQR_LA)"
   ]
  },
  {
   "cell_type": "code",
   "execution_count": 36,
   "id": "efe9c022-209c-441b-ad4f-4ec985f16fe2",
   "metadata": {},
   "outputs": [
    {
     "name": "stdout",
     "output_type": "stream",
     "text": [
      "Down:  3.5\n",
      "Up:  261.5\n"
     ]
    }
   ],
   "source": [
    "down_LA = Q1_LA - 1.5*IQR_LA\n",
    "up_LA = Q3_LA + 1.5*IQR_LA\n",
    "print(\"Down: \", down_LA)\n",
    "print(\"Up: \", up_LA)"
   ]
  },
  {
   "cell_type": "code",
   "execution_count": 37,
   "id": "3589258c-660b-4e7d-a4a3-e16b409fec33",
   "metadata": {
    "tags": []
   },
   "outputs": [
    {
     "data": {
      "text/plain": [
       "0      False\n",
       "1      False\n",
       "2      False\n",
       "3      False\n",
       "4      False\n",
       "       ...  \n",
       "609    False\n",
       "610    False\n",
       "611    False\n",
       "612    False\n",
       "613    False\n",
       "Name: LoanAmount, Length: 614, dtype: bool"
      ]
     },
     "execution_count": 37,
     "metadata": {},
     "output_type": "execute_result"
    }
   ],
   "source": [
    "outliers_LA = df['LoanAmount']>up_LA\n",
    "outliers_LA"
   ]
  },
  {
   "cell_type": "code",
   "execution_count": 38,
   "id": "212891c1-d31c-470d-a2f4-a98d33de1720",
   "metadata": {},
   "outputs": [
    {
     "data": {
      "text/plain": [
       "Int64Index([  5,   9,  21,  34,  54,  67,  83, 126, 130, 135, 155, 161, 171,\n",
       "            177, 233, 253, 258, 260, 278, 308, 324, 325, 333, 351, 369, 372,\n",
       "            381, 391, 409, 432, 487, 506, 514, 523, 525, 536, 561, 572, 592,\n",
       "            600, 604],\n",
       "           dtype='int64')"
      ]
     },
     "execution_count": 38,
     "metadata": {},
     "output_type": "execute_result"
    }
   ],
   "source": [
    "df[outliers_LA].index"
   ]
  },
  {
   "cell_type": "code",
   "execution_count": 39,
   "id": "4d574623-5fe7-4afe-99d2-eef9767ee3ce",
   "metadata": {},
   "outputs": [],
   "source": [
    "df.loc[df[outliers_LA].index, 'LoanAmount'] = up_LA"
   ]
  },
  {
   "cell_type": "code",
   "execution_count": null,
   "id": "12338ac9-a327-46a5-bc03-53adfb589f82",
   "metadata": {},
   "outputs": [],
   "source": []
  },
  {
   "cell_type": "code",
   "execution_count": 40,
   "id": "be951d27-cc27-46d2-b662-b41f8908f400",
   "metadata": {},
   "outputs": [
    {
     "data": {
      "image/png": "[encoded data removed]",
      "text/plain": [
       "<Figure size 432x288 with 1 Axes>"
      ]
     },
     "metadata": {
      "needs_background": "light"
     },
     "output_type": "display_data"
    }
   ],
   "source": [
    "# For Loan_Amount_Term\n",
    "sns.boxplot(df['Loan_Amount_Term']);"
   ]
  },
  {
   "cell_type": "code",
   "execution_count": 41,
   "id": "f2967662-b7c1-4bed-9a47-eed14ce08301",
   "metadata": {},
   "outputs": [
    {
     "name": "stdout",
     "output_type": "stream",
     "text": [
      "Q1_LAT  360.0\n",
      "Q3_LAT  360.0\n",
      "IQR_LAT  0.0\n"
     ]
    }
   ],
   "source": [
    "Q1_LAT = df['Loan_Amount_Term'].quantile(0.25)\n",
    "Q3_LAT = df['Loan_Amount_Term'].quantile(0.75)\n",
    "IQR_LAT = Q3_LAT-Q1_LAT\n",
    "print(\"Q1_LAT \", Q1_LAT)\n",
    "print(\"Q3_LAT \", Q3_LAT)\n",
    "print(\"IQR_LAT \", IQR_LAT)"
   ]
  },
  {
   "cell_type": "code",
   "execution_count": 42,
   "id": "c93607ed-30d6-4467-aa5b-849e8cb6179c",
   "metadata": {},
   "outputs": [
    {
     "name": "stdout",
     "output_type": "stream",
     "text": [
      "Down:  360.0\n",
      "Up:  360.0\n"
     ]
    }
   ],
   "source": [
    "down_LAT = Q1_LAT - 1.5*IQR_LAT\n",
    "up_LAT = Q3_LAT + 1.5*IQR_LAT\n",
    "print(\"Down: \", down_LAT)\n",
    "print(\"Up: \", up_LAT)"
   ]
  },
  {
   "cell_type": "code",
   "execution_count": 43,
   "id": "79e592c4-7ee0-4f12-8331-3d58ef24489d",
   "metadata": {},
   "outputs": [
    {
     "data": {
      "text/plain": [
       "0      False\n",
       "1      False\n",
       "2      False\n",
       "3      False\n",
       "4      False\n",
       "       ...  \n",
       "609    False\n",
       "610     True\n",
       "611    False\n",
       "612    False\n",
       "613    False\n",
       "Name: Loan_Amount_Term, Length: 614, dtype: bool"
      ]
     },
     "execution_count": 43,
     "metadata": {},
     "output_type": "execute_result"
    }
   ],
   "source": [
    "outliers_LAT = (df['Loan_Amount_Term'] < down_LAT) | (df['Loan_Amount_Term'] > up_LAT) \n",
    "outliers_LAT"
   ]
  },
  {
   "cell_type": "code",
   "execution_count": 44,
   "id": "ffdee9cf-d6fa-4f9e-b2f1-23af4579a0ef",
   "metadata": {},
   "outputs": [
    {
     "data": {
      "text/plain": [
       "Int64Index([ 14,  16,  62,  66,  68,  72,  75,  78,  84,  91,  94,  98, 100,\n",
       "            109, 115, 128, 130, 133, 142, 144, 155, 164, 168, 171, 172, 179,\n",
       "            182, 186, 189, 202, 228, 231, 241, 242, 245, 247, 248, 253, 262,\n",
       "            282, 286, 293, 298, 313, 315, 333, 334, 355, 358, 363, 366, 372,\n",
       "            373, 375, 378, 385, 393, 400, 401, 408, 429, 435, 444, 451, 453,\n",
       "            461, 466, 471, 476, 495, 497, 500, 504, 513, 516, 539, 540, 546,\n",
       "            554, 573, 575, 585, 590, 591, 593, 600, 605, 610],\n",
       "           dtype='int64')"
      ]
     },
     "execution_count": 44,
     "metadata": {},
     "output_type": "execute_result"
    }
   ],
   "source": [
    "df[outliers_LAT].index"
   ]
  },
  {
   "cell_type": "code",
   "execution_count": 45,
   "id": "ad8ee074-8e61-4779-a4c8-0d4c00b3e4c7",
   "metadata": {},
   "outputs": [],
   "source": [
    "df.loc[df[outliers_LAT].index, 'Loan_Amount_Term'] = up_LAT"
   ]
  },
  {
   "cell_type": "code",
   "execution_count": null,
   "id": "10922d06-306c-4b7f-b3c4-2b60f9af9f0d",
   "metadata": {},
   "outputs": [],
   "source": []
  },
  {
   "cell_type": "markdown",
   "id": "71a41446-445a-4531-b2fe-7c83871d1005",
   "metadata": {},
   "source": [
    "### One-Hot Encoding"
   ]
  },
  {
   "cell_type": "code",
   "execution_count": 47,
   "id": "03ce1502-3720-44a6-aa8e-04c4fa79168a",
   "metadata": {},
   "outputs": [],
   "source": [
    "df = pd.get_dummies(df, columns = ['Gender', 'Married', 'Dependents', 'Education', 'Self_Employed', 'Property_Area'])"
   ]
  },
  {
   "cell_type": "code",
   "execution_count": 48,
   "id": "e597b2dd-5284-4490-b656-e2ac325b575d",
   "metadata": {},
   "outputs": [
    {
     "data": {
      "text/html": [
       "<div>\n",
       "<style scoped>\n",
       "    .dataframe tbody tr th:only-of-type {\n",
       "        vertical-align: middle;\n",
       "    }\n",
       "\n",
       "    .dataframe tbody tr th {\n",
       "        vertical-align: top;\n",
       "    }\n",
       "\n",
       "    .dataframe thead th {\n",
       "        text-align: right;\n",
       "    }\n",
       "</style>\n",
       "<table border=\"1\" class=\"dataframe\">\n",
       "  <thead>\n",
       "    <tr style=\"text-align: right;\">\n",
       "      <th></th>\n",
       "      <th>Loan_Status</th>\n",
       "      <th>Gender_Female</th>\n",
       "      <th>Gender_Male</th>\n",
       "      <th>Married_No</th>\n",
       "      <th>Married_Yes</th>\n",
       "      <th>Dependents_0</th>\n",
       "      <th>Dependents_1</th>\n",
       "      <th>Dependents_2</th>\n",
       "      <th>Dependents_3+</th>\n",
       "    </tr>\n",
       "  </thead>\n",
       "  <tbody>\n",
       "    <tr>\n",
       "      <th>0</th>\n",
       "      <td>Y</td>\n",
       "      <td>0</td>\n",
       "      <td>1</td>\n",
       "      <td>1</td>\n",
       "      <td>0</td>\n",
       "      <td>1</td>\n",
       "      <td>0</td>\n",
       "      <td>0</td>\n",
       "      <td>0</td>\n",
       "    </tr>\n",
       "    <tr>\n",
       "      <th>1</th>\n",
       "      <td>N</td>\n",
       "      <td>0</td>\n",
       "      <td>1</td>\n",
       "      <td>0</td>\n",
       "      <td>1</td>\n",
       "      <td>0</td>\n",
       "      <td>1</td>\n",
       "      <td>0</td>\n",
       "      <td>0</td>\n",
       "    </tr>\n",
       "    <tr>\n",
       "      <th>2</th>\n",
       "      <td>Y</td>\n",
       "      <td>0</td>\n",
       "      <td>1</td>\n",
       "      <td>0</td>\n",
       "      <td>1</td>\n",
       "      <td>1</td>\n",
       "      <td>0</td>\n",
       "      <td>0</td>\n",
       "      <td>0</td>\n",
       "    </tr>\n",
       "    <tr>\n",
       "      <th>3</th>\n",
       "      <td>Y</td>\n",
       "      <td>0</td>\n",
       "      <td>1</td>\n",
       "      <td>0</td>\n",
       "      <td>1</td>\n",
       "      <td>1</td>\n",
       "      <td>0</td>\n",
       "      <td>0</td>\n",
       "      <td>0</td>\n",
       "    </tr>\n",
       "    <tr>\n",
       "      <th>4</th>\n",
       "      <td>Y</td>\n",
       "      <td>0</td>\n",
       "      <td>1</td>\n",
       "      <td>1</td>\n",
       "      <td>0</td>\n",
       "      <td>1</td>\n",
       "      <td>0</td>\n",
       "      <td>0</td>\n",
       "      <td>0</td>\n",
       "    </tr>\n",
       "  </tbody>\n",
       "</table>\n",
       "</div>"
      ],
      "text/plain": [
       "  Loan_Status  Gender_Female  Gender_Male  Married_No  Married_Yes  \\\n",
       "0           Y              0            1           1            0   \n",
       "1           N              0            1           0            1   \n",
       "2           Y              0            1           0            1   \n",
       "3           Y              0            1           0            1   \n",
       "4           Y              0            1           1            0   \n",
       "\n",
       "   Dependents_0  Dependents_1  Dependents_2  Dependents_3+  \n",
       "0             1             0             0              0  \n",
       "1             0             1             0              0  \n",
       "2             1             0             0              0  \n",
       "3             1             0             0              0  \n",
       "4             1             0             0              0  "
      ]
     },
     "execution_count": 48,
     "metadata": {},
     "output_type": "execute_result"
    }
   ],
   "source": [
    "df.head()"
   ]
  },
  {
   "cell_type": "code",
   "execution_count": 49,
   "id": "adb65a5b-157a-4c87-9369-b2e9b68a3436",
   "metadata": {},
   "outputs": [],
   "source": [
    "# After encoding delete some columns beacues they include the same information with their pair\n",
    "df.drop(['Gender_Female', 'Married_No', 'Education_Not Graduate', 'Self_Employed_No'], axis = 1, inplace = True)"
   ]
  },
  {
   "cell_type": "code",
   "execution_count": 50,
   "id": "1b0d83f1-ae4f-49f9-aec0-ed66ab6accb3",
   "metadata": {},
   "outputs": [],
   "source": [
    "# Creidy_History column is in float type and we must change it\n",
    "df['Credit_History'] = df['Credit_History'].replace({1.0: 'Yes', 0.0: 'No'})"
   ]
  },
  {
   "cell_type": "code",
   "execution_count": 51,
   "id": "e8899aa4-c307-4556-b5b5-0afb48df00da",
   "metadata": {},
   "outputs": [],
   "source": [
    "df = pd.get_dummies(df, columns = ['Credit_History'])\n",
    "df.drop('Credit_History_No', axis = 1, inplace = True)"
   ]
  },
  {
   "cell_type": "code",
   "execution_count": 52,
   "id": "27990b74-0368-449f-ab31-553a69c16e26",
   "metadata": {},
   "outputs": [],
   "source": [
    "# Preparation of our tagret 'Loan_Status'. I replaced Y with 1 and N with 0\n",
    "df['Loan_Status'] = df['Loan_Status'].replace({'Y': 1, 'N': 0})"
   ]
  },
  {
   "cell_type": "code",
   "execution_count": 53,
   "id": "a22d0895-b4e9-448a-9137-3252d23fcfef",
   "metadata": {},
   "outputs": [
    {
     "data": {
      "text/html": [
       "<div>\n",
       "<style scoped>\n",
       "    .dataframe tbody tr th:only-of-type {\n",
       "        vertical-align: middle;\n",
       "    }\n",
       "\n",
       "    .dataframe tbody tr th {\n",
       "        vertical-align: top;\n",
       "    }\n",
       "\n",
       "    .dataframe thead th {\n",
       "        text-align: right;\n",
       "    }\n",
       "</style>\n",
       "<table border=\"1\" class=\"dataframe\">\n",
       "  <thead>\n",
       "    <tr style=\"text-align: right;\">\n",
       "      <th></th>\n",
       "      <th>index</th>\n",
       "      <th>Loan_ID</th>\n",
       "      <th>ApplicantIncome</th>\n",
       "      <th>CoapplicantIncome</th>\n",
       "      <th>LoanAmount</th>\n",
       "      <th>Loan_Amount_Term</th>\n",
       "      <th>Loan_Status</th>\n",
       "      <th>Gender_Male</th>\n",
       "      <th>Married_Yes</th>\n",
       "      <th>Dependents_0</th>\n",
       "      <th>Dependents_1</th>\n",
       "      <th>Dependents_2</th>\n",
       "      <th>Dependents_3+</th>\n",
       "      <th>Education_Graduate</th>\n",
       "      <th>Self_Employed_Yes</th>\n",
       "      <th>Property_Area_Rural</th>\n",
       "      <th>Property_Area_Semiurban</th>\n",
       "      <th>Property_Area_Urban</th>\n",
       "      <th>Credit_History_Yes</th>\n",
       "    </tr>\n",
       "  </thead>\n",
       "  <tbody>\n",
       "    <tr>\n",
       "      <th>0</th>\n",
       "      <td>0</td>\n",
       "      <td>LP001002</td>\n",
       "      <td>5849.0</td>\n",
       "      <td>0.0</td>\n",
       "      <td>128.0</td>\n",
       "      <td>360.0</td>\n",
       "      <td>1</td>\n",
       "      <td>1</td>\n",
       "      <td>0</td>\n",
       "      <td>1</td>\n",
       "      <td>0</td>\n",
       "      <td>0</td>\n",
       "      <td>0</td>\n",
       "      <td>1</td>\n",
       "      <td>0</td>\n",
       "      <td>0</td>\n",
       "      <td>0</td>\n",
       "      <td>1</td>\n",
       "      <td>1</td>\n",
       "    </tr>\n",
       "    <tr>\n",
       "      <th>1</th>\n",
       "      <td>1</td>\n",
       "      <td>LP001003</td>\n",
       "      <td>4583.0</td>\n",
       "      <td>1508.0</td>\n",
       "      <td>128.0</td>\n",
       "      <td>360.0</td>\n",
       "      <td>0</td>\n",
       "      <td>1</td>\n",
       "      <td>1</td>\n",
       "      <td>0</td>\n",
       "      <td>1</td>\n",
       "      <td>0</td>\n",
       "      <td>0</td>\n",
       "      <td>1</td>\n",
       "      <td>0</td>\n",
       "      <td>1</td>\n",
       "      <td>0</td>\n",
       "      <td>0</td>\n",
       "      <td>1</td>\n",
       "    </tr>\n",
       "    <tr>\n",
       "      <th>2</th>\n",
       "      <td>2</td>\n",
       "      <td>LP001005</td>\n",
       "      <td>3000.0</td>\n",
       "      <td>0.0</td>\n",
       "      <td>66.0</td>\n",
       "      <td>360.0</td>\n",
       "      <td>1</td>\n",
       "      <td>1</td>\n",
       "      <td>1</td>\n",
       "      <td>1</td>\n",
       "      <td>0</td>\n",
       "      <td>0</td>\n",
       "      <td>0</td>\n",
       "      <td>1</td>\n",
       "      <td>1</td>\n",
       "      <td>0</td>\n",
       "      <td>0</td>\n",
       "      <td>1</td>\n",
       "      <td>1</td>\n",
       "    </tr>\n",
       "    <tr>\n",
       "      <th>3</th>\n",
       "      <td>3</td>\n",
       "      <td>LP001006</td>\n",
       "      <td>2583.0</td>\n",
       "      <td>2358.0</td>\n",
       "      <td>120.0</td>\n",
       "      <td>360.0</td>\n",
       "      <td>1</td>\n",
       "      <td>1</td>\n",
       "      <td>1</td>\n",
       "      <td>1</td>\n",
       "      <td>0</td>\n",
       "      <td>0</td>\n",
       "      <td>0</td>\n",
       "      <td>0</td>\n",
       "      <td>0</td>\n",
       "      <td>0</td>\n",
       "      <td>0</td>\n",
       "      <td>1</td>\n",
       "      <td>1</td>\n",
       "    </tr>\n",
       "    <tr>\n",
       "      <th>4</th>\n",
       "      <td>4</td>\n",
       "      <td>LP001008</td>\n",
       "      <td>6000.0</td>\n",
       "      <td>0.0</td>\n",
       "      <td>141.0</td>\n",
       "      <td>360.0</td>\n",
       "      <td>1</td>\n",
       "      <td>1</td>\n",
       "      <td>0</td>\n",
       "      <td>1</td>\n",
       "      <td>0</td>\n",
       "      <td>0</td>\n",
       "      <td>0</td>\n",
       "      <td>1</td>\n",
       "      <td>0</td>\n",
       "      <td>0</td>\n",
       "      <td>0</td>\n",
       "      <td>1</td>\n",
       "      <td>1</td>\n",
       "    </tr>\n",
       "  </tbody>\n",
       "</table>\n",
       "</div>"
      ],
      "text/plain": [
       "   index   Loan_ID  ApplicantIncome  CoapplicantIncome  LoanAmount  \\\n",
       "0      0  LP001002           5849.0                0.0       128.0   \n",
       "1      1  LP001003           4583.0             1508.0       128.0   \n",
       "2      2  LP001005           3000.0                0.0        66.0   \n",
       "3      3  LP001006           2583.0             2358.0       120.0   \n",
       "4      4  LP001008           6000.0                0.0       141.0   \n",
       "\n",
       "   Loan_Amount_Term  Loan_Status  Gender_Male  Married_Yes  Dependents_0  \\\n",
       "0             360.0            1            1            0             1   \n",
       "1             360.0            0            1            1             0   \n",
       "2             360.0            1            1            1             1   \n",
       "3             360.0            1            1            1             1   \n",
       "4             360.0            1            1            0             1   \n",
       "\n",
       "   Dependents_1  Dependents_2  Dependents_3+  Education_Graduate  \\\n",
       "0             0             0              0                   1   \n",
       "1             1             0              0                   1   \n",
       "2             0             0              0                   1   \n",
       "3             0             0              0                   0   \n",
       "4             0             0              0                   1   \n",
       "\n",
       "   Self_Employed_Yes  Property_Area_Rural  Property_Area_Semiurban  \\\n",
       "0                  0                    0                        0   \n",
       "1                  0                    1                        0   \n",
       "2                  1                    0                        0   \n",
       "3                  0                    0                        0   \n",
       "4                  0                    0                        0   \n",
       "\n",
       "   Property_Area_Urban  Credit_History_Yes  \n",
       "0                    1                   1  \n",
       "1                    0                   1  \n",
       "2                    1                   1  \n",
       "3                    1                   1  \n",
       "4                    1                   1  "
      ]
     },
     "execution_count": 53,
     "metadata": {},
     "output_type": "execute_result"
    }
   ],
   "source": [
    "df.reset_index(inplace = True)\n",
    "df.head()"
   ]
  },
  {
   "cell_type": "code",
   "execution_count": 54,
   "id": "a847355f-2c2a-4d67-8d94-18fecbc61040",
   "metadata": {},
   "outputs": [
    {
     "data": {
      "text/html": [
       "<div>\n",
       "<style scoped>\n",
       "    .dataframe tbody tr th:only-of-type {\n",
       "        vertical-align: middle;\n",
       "    }\n",
       "\n",
       "    .dataframe tbody tr th {\n",
       "        vertical-align: top;\n",
       "    }\n",
       "\n",
       "    .dataframe thead th {\n",
       "        text-align: right;\n",
       "    }\n",
       "</style>\n",
       "<table border=\"1\" class=\"dataframe\">\n",
       "  <thead>\n",
       "    <tr style=\"text-align: right;\">\n",
       "      <th></th>\n",
       "      <th>ApplicantIncome</th>\n",
       "      <th>CoapplicantIncome</th>\n",
       "      <th>LoanAmount</th>\n",
       "      <th>Loan_Amount_Term</th>\n",
       "      <th>Loan_Status</th>\n",
       "      <th>Gender_Male</th>\n",
       "      <th>Married_Yes</th>\n",
       "      <th>Dependents_0</th>\n",
       "      <th>Dependents_1</th>\n",
       "      <th>Dependents_2</th>\n",
       "      <th>Dependents_3+</th>\n",
       "      <th>Education_Graduate</th>\n",
       "      <th>Self_Employed_Yes</th>\n",
       "      <th>Property_Area_Rural</th>\n",
       "      <th>Property_Area_Semiurban</th>\n",
       "      <th>Property_Area_Urban</th>\n",
       "      <th>Credit_History_Yes</th>\n",
       "    </tr>\n",
       "  </thead>\n",
       "  <tbody>\n",
       "    <tr>\n",
       "      <th>0</th>\n",
       "      <td>5849.0</td>\n",
       "      <td>0.0</td>\n",
       "      <td>128.0</td>\n",
       "      <td>360.0</td>\n",
       "      <td>1</td>\n",
       "      <td>1</td>\n",
       "      <td>0</td>\n",
       "      <td>1</td>\n",
       "      <td>0</td>\n",
       "      <td>0</td>\n",
       "      <td>0</td>\n",
       "      <td>1</td>\n",
       "      <td>0</td>\n",
       "      <td>0</td>\n",
       "      <td>0</td>\n",
       "      <td>1</td>\n",
       "      <td>1</td>\n",
       "    </tr>\n",
       "    <tr>\n",
       "      <th>1</th>\n",
       "      <td>4583.0</td>\n",
       "      <td>1508.0</td>\n",
       "      <td>128.0</td>\n",
       "      <td>360.0</td>\n",
       "      <td>0</td>\n",
       "      <td>1</td>\n",
       "      <td>1</td>\n",
       "      <td>0</td>\n",
       "      <td>1</td>\n",
       "      <td>0</td>\n",
       "      <td>0</td>\n",
       "      <td>1</td>\n",
       "      <td>0</td>\n",
       "      <td>1</td>\n",
       "      <td>0</td>\n",
       "      <td>0</td>\n",
       "      <td>1</td>\n",
       "    </tr>\n",
       "    <tr>\n",
       "      <th>2</th>\n",
       "      <td>3000.0</td>\n",
       "      <td>0.0</td>\n",
       "      <td>66.0</td>\n",
       "      <td>360.0</td>\n",
       "      <td>1</td>\n",
       "      <td>1</td>\n",
       "      <td>1</td>\n",
       "      <td>1</td>\n",
       "      <td>0</td>\n",
       "      <td>0</td>\n",
       "      <td>0</td>\n",
       "      <td>1</td>\n",
       "      <td>1</td>\n",
       "      <td>0</td>\n",
       "      <td>0</td>\n",
       "      <td>1</td>\n",
       "      <td>1</td>\n",
       "    </tr>\n",
       "    <tr>\n",
       "      <th>3</th>\n",
       "      <td>2583.0</td>\n",
       "      <td>2358.0</td>\n",
       "      <td>120.0</td>\n",
       "      <td>360.0</td>\n",
       "      <td>1</td>\n",
       "      <td>1</td>\n",
       "      <td>1</td>\n",
       "      <td>1</td>\n",
       "      <td>0</td>\n",
       "      <td>0</td>\n",
       "      <td>0</td>\n",
       "      <td>0</td>\n",
       "      <td>0</td>\n",
       "      <td>0</td>\n",
       "      <td>0</td>\n",
       "      <td>1</td>\n",
       "      <td>1</td>\n",
       "    </tr>\n",
       "    <tr>\n",
       "      <th>4</th>\n",
       "      <td>6000.0</td>\n",
       "      <td>0.0</td>\n",
       "      <td>141.0</td>\n",
       "      <td>360.0</td>\n",
       "      <td>1</td>\n",
       "      <td>1</td>\n",
       "      <td>0</td>\n",
       "      <td>1</td>\n",
       "      <td>0</td>\n",
       "      <td>0</td>\n",
       "      <td>0</td>\n",
       "      <td>1</td>\n",
       "      <td>0</td>\n",
       "      <td>0</td>\n",
       "      <td>0</td>\n",
       "      <td>1</td>\n",
       "      <td>1</td>\n",
       "    </tr>\n",
       "  </tbody>\n",
       "</table>\n",
       "</div>"
      ],
      "text/plain": [
       "   ApplicantIncome  CoapplicantIncome  LoanAmount  Loan_Amount_Term  \\\n",
       "0           5849.0                0.0       128.0             360.0   \n",
       "1           4583.0             1508.0       128.0             360.0   \n",
       "2           3000.0                0.0        66.0             360.0   \n",
       "3           2583.0             2358.0       120.0             360.0   \n",
       "4           6000.0                0.0       141.0             360.0   \n",
       "\n",
       "   Loan_Status  Gender_Male  Married_Yes  Dependents_0  Dependents_1  \\\n",
       "0            1            1            0             1             0   \n",
       "1            0            1            1             0             1   \n",
       "2            1            1            1             1             0   \n",
       "3            1            1            1             1             0   \n",
       "4            1            1            0             1             0   \n",
       "\n",
       "   Dependents_2  Dependents_3+  Education_Graduate  Self_Employed_Yes  \\\n",
       "0             0              0                   1                  0   \n",
       "1             0              0                   1                  0   \n",
       "2             0              0                   1                  1   \n",
       "3             0              0                   0                  0   \n",
       "4             0              0                   1                  0   \n",
       "\n",
       "   Property_Area_Rural  Property_Area_Semiurban  Property_Area_Urban  \\\n",
       "0                    0                        0                    1   \n",
       "1                    1                        0                    0   \n",
       "2                    0                        0                    1   \n",
       "3                    0                        0                    1   \n",
       "4                    0                        0                    1   \n",
       "\n",
       "   Credit_History_Yes  \n",
       "0                   1  \n",
       "1                   1  \n",
       "2                   1  \n",
       "3                   1  \n",
       "4                   1  "
      ]
     },
     "execution_count": 54,
     "metadata": {},
     "output_type": "execute_result"
    }
   ],
   "source": [
    "# I deleted index and Loan_ID columns because Loand_ID is just number which identify loans and it is not informative for models\n",
    "df.drop(['index', 'Loan_ID'], axis = 1, inplace = True)\n",
    "df.head()"
   ]
  },
  {
   "cell_type": "code",
   "execution_count": 55,
   "id": "6437ebd3-485d-48ff-9b9d-4275ec217ade",
   "metadata": {},
   "outputs": [
    {
     "data": {
      "text/html": [
       "<div>\n",
       "<style scoped>\n",
       "    .dataframe tbody tr th:only-of-type {\n",
       "        vertical-align: middle;\n",
       "    }\n",
       "\n",
       "    .dataframe tbody tr th {\n",
       "        vertical-align: top;\n",
       "    }\n",
       "\n",
       "    .dataframe thead th {\n",
       "        text-align: right;\n",
       "    }\n",
       "</style>\n",
       "<table border=\"1\" class=\"dataframe\">\n",
       "  <thead>\n",
       "    <tr style=\"text-align: right;\">\n",
       "      <th></th>\n",
       "      <th>ApplicantIncome</th>\n",
       "      <th>CoapplicantIncome</th>\n",
       "      <th>LoanAmount</th>\n",
       "      <th>Loan_Amount_Term</th>\n",
       "      <th>Loan_Status</th>\n",
       "      <th>Gender_Male</th>\n",
       "      <th>Married_Yes</th>\n",
       "      <th>Dependents_0</th>\n",
       "      <th>Dependents_1</th>\n",
       "      <th>Dependents_2</th>\n",
       "      <th>Dependents_3+</th>\n",
       "      <th>Education_Graduate</th>\n",
       "      <th>Self_Employed_Yes</th>\n",
       "      <th>Property_Area_Rural</th>\n",
       "      <th>Property_Area_Semiurban</th>\n",
       "      <th>Property_Area_Urban</th>\n",
       "      <th>Credit_History_Yes</th>\n",
       "    </tr>\n",
       "  </thead>\n",
       "  <tbody>\n",
       "    <tr>\n",
       "      <th>0</th>\n",
       "      <td>5849.0</td>\n",
       "      <td>0.0</td>\n",
       "      <td>128.0</td>\n",
       "      <td>360.0</td>\n",
       "      <td>1</td>\n",
       "      <td>1</td>\n",
       "      <td>0</td>\n",
       "      <td>1</td>\n",
       "      <td>0</td>\n",
       "      <td>0</td>\n",
       "      <td>0</td>\n",
       "      <td>1</td>\n",
       "      <td>0</td>\n",
       "      <td>0</td>\n",
       "      <td>0</td>\n",
       "      <td>1</td>\n",
       "      <td>1</td>\n",
       "    </tr>\n",
       "    <tr>\n",
       "      <th>1</th>\n",
       "      <td>4583.0</td>\n",
       "      <td>1508.0</td>\n",
       "      <td>128.0</td>\n",
       "      <td>360.0</td>\n",
       "      <td>0</td>\n",
       "      <td>1</td>\n",
       "      <td>1</td>\n",
       "      <td>0</td>\n",
       "      <td>1</td>\n",
       "      <td>0</td>\n",
       "      <td>0</td>\n",
       "      <td>1</td>\n",
       "      <td>0</td>\n",
       "      <td>1</td>\n",
       "      <td>0</td>\n",
       "      <td>0</td>\n",
       "      <td>1</td>\n",
       "    </tr>\n",
       "    <tr>\n",
       "      <th>2</th>\n",
       "      <td>3000.0</td>\n",
       "      <td>0.0</td>\n",
       "      <td>66.0</td>\n",
       "      <td>360.0</td>\n",
       "      <td>1</td>\n",
       "      <td>1</td>\n",
       "      <td>1</td>\n",
       "      <td>1</td>\n",
       "      <td>0</td>\n",
       "      <td>0</td>\n",
       "      <td>0</td>\n",
       "      <td>1</td>\n",
       "      <td>1</td>\n",
       "      <td>0</td>\n",
       "      <td>0</td>\n",
       "      <td>1</td>\n",
       "      <td>1</td>\n",
       "    </tr>\n",
       "    <tr>\n",
       "      <th>3</th>\n",
       "      <td>2583.0</td>\n",
       "      <td>2358.0</td>\n",
       "      <td>120.0</td>\n",
       "      <td>360.0</td>\n",
       "      <td>1</td>\n",
       "      <td>1</td>\n",
       "      <td>1</td>\n",
       "      <td>1</td>\n",
       "      <td>0</td>\n",
       "      <td>0</td>\n",
       "      <td>0</td>\n",
       "      <td>0</td>\n",
       "      <td>0</td>\n",
       "      <td>0</td>\n",
       "      <td>0</td>\n",
       "      <td>1</td>\n",
       "      <td>1</td>\n",
       "    </tr>\n",
       "    <tr>\n",
       "      <th>4</th>\n",
       "      <td>6000.0</td>\n",
       "      <td>0.0</td>\n",
       "      <td>141.0</td>\n",
       "      <td>360.0</td>\n",
       "      <td>1</td>\n",
       "      <td>1</td>\n",
       "      <td>0</td>\n",
       "      <td>1</td>\n",
       "      <td>0</td>\n",
       "      <td>0</td>\n",
       "      <td>0</td>\n",
       "      <td>1</td>\n",
       "      <td>0</td>\n",
       "      <td>0</td>\n",
       "      <td>0</td>\n",
       "      <td>1</td>\n",
       "      <td>1</td>\n",
       "    </tr>\n",
       "  </tbody>\n",
       "</table>\n",
       "</div>"
      ],
      "text/plain": [
       "   ApplicantIncome  CoapplicantIncome  LoanAmount  Loan_Amount_Term  \\\n",
       "0           5849.0                0.0       128.0             360.0   \n",
       "1           4583.0             1508.0       128.0             360.0   \n",
       "2           3000.0                0.0        66.0             360.0   \n",
       "3           2583.0             2358.0       120.0             360.0   \n",
       "4           6000.0                0.0       141.0             360.0   \n",
       "\n",
       "   Loan_Status  Gender_Male  Married_Yes  Dependents_0  Dependents_1  \\\n",
       "0            1            1            0             1             0   \n",
       "1            0            1            1             0             1   \n",
       "2            1            1            1             1             0   \n",
       "3            1            1            1             1             0   \n",
       "4            1            1            0             1             0   \n",
       "\n",
       "   Dependents_2  Dependents_3+  Education_Graduate  Self_Employed_Yes  \\\n",
       "0             0              0                   1                  0   \n",
       "1             0              0                   1                  0   \n",
       "2             0              0                   1                  1   \n",
       "3             0              0                   0                  0   \n",
       "4             0              0                   1                  0   \n",
       "\n",
       "   Property_Area_Rural  Property_Area_Semiurban  Property_Area_Urban  \\\n",
       "0                    0                        0                    1   \n",
       "1                    1                        0                    0   \n",
       "2                    0                        0                    1   \n",
       "3                    0                        0                    1   \n",
       "4                    0                        0                    1   \n",
       "\n",
       "   Credit_History_Yes  \n",
       "0                   1  \n",
       "1                   1  \n",
       "2                   1  \n",
       "3                   1  \n",
       "4                   1  "
      ]
     },
     "execution_count": 55,
     "metadata": {},
     "output_type": "execute_result"
    }
   ],
   "source": [
    "df.head()"
   ]
  },
  {
   "cell_type": "code",
   "execution_count": 56,
   "id": "bc550059-6ceb-456c-93ff-4769c990e4d4",
   "metadata": {
    "tags": []
   },
   "outputs": [
    {
     "data": {
      "image/png": "[encoded data removed]",
      "text/plain": [
       "<Figure size 1080x1080 with 2 Axes>"
      ]
     },
     "metadata": {
      "needs_background": "light"
     },
     "output_type": "display_data"
    }
   ],
   "source": [
    "# In this heatmap, we can see correlation between features. Loan_Amount dont have correlation with other features\n",
    "#because its all values were equal to 360 after filling missing values and outlier treatment steps\n",
    "\n",
    "plt.figure(figsize = (15,15))\n",
    "sns.heatmap(df.corr(), annot = True, cbar = True, vmin = -1, vmax= 1);"
   ]
  },
  {
   "cell_type": "code",
   "execution_count": null,
   "id": "a6d4d21f-ae5d-4521-b031-d234ff42cd8a",
   "metadata": {},
   "outputs": [],
   "source": []
  },
  {
   "cell_type": "code",
   "execution_count": 57,
   "id": "e8636590-b9bb-4ef6-aa97-d0bdd85d3c50",
   "metadata": {},
   "outputs": [
    {
     "data": {
      "text/html": [
       "<div>\n",
       "<style scoped>\n",
       "    .dataframe tbody tr th:only-of-type {\n",
       "        vertical-align: middle;\n",
       "    }\n",
       "\n",
       "    .dataframe tbody tr th {\n",
       "        vertical-align: top;\n",
       "    }\n",
       "\n",
       "    .dataframe thead th {\n",
       "        text-align: right;\n",
       "    }\n",
       "</style>\n",
       "<table border=\"1\" class=\"dataframe\">\n",
       "  <thead>\n",
       "    <tr style=\"text-align: right;\">\n",
       "      <th></th>\n",
       "      <th>ApplicantIncome</th>\n",
       "      <th>CoapplicantIncome</th>\n",
       "      <th>LoanAmount</th>\n",
       "      <th>Loan_Amount_Term</th>\n",
       "      <th>Loan_Status</th>\n",
       "      <th>Gender_Male</th>\n",
       "      <th>Married_Yes</th>\n",
       "      <th>Dependents_0</th>\n",
       "      <th>Dependents_1</th>\n",
       "      <th>Dependents_2</th>\n",
       "      <th>Dependents_3+</th>\n",
       "      <th>Education_Graduate</th>\n",
       "      <th>Self_Employed_Yes</th>\n",
       "      <th>Property_Area_Rural</th>\n",
       "      <th>Property_Area_Semiurban</th>\n",
       "      <th>Property_Area_Urban</th>\n",
       "      <th>Credit_History_Yes</th>\n",
       "    </tr>\n",
       "  </thead>\n",
       "  <tbody>\n",
       "    <tr>\n",
       "      <th>0</th>\n",
       "      <td>5849.0</td>\n",
       "      <td>0.0</td>\n",
       "      <td>128.0</td>\n",
       "      <td>360.0</td>\n",
       "      <td>1</td>\n",
       "      <td>1</td>\n",
       "      <td>0</td>\n",
       "      <td>1</td>\n",
       "      <td>0</td>\n",
       "      <td>0</td>\n",
       "      <td>0</td>\n",
       "      <td>1</td>\n",
       "      <td>0</td>\n",
       "      <td>0</td>\n",
       "      <td>0</td>\n",
       "      <td>1</td>\n",
       "      <td>1</td>\n",
       "    </tr>\n",
       "    <tr>\n",
       "      <th>1</th>\n",
       "      <td>4583.0</td>\n",
       "      <td>1508.0</td>\n",
       "      <td>128.0</td>\n",
       "      <td>360.0</td>\n",
       "      <td>0</td>\n",
       "      <td>1</td>\n",
       "      <td>1</td>\n",
       "      <td>0</td>\n",
       "      <td>1</td>\n",
       "      <td>0</td>\n",
       "      <td>0</td>\n",
       "      <td>1</td>\n",
       "      <td>0</td>\n",
       "      <td>1</td>\n",
       "      <td>0</td>\n",
       "      <td>0</td>\n",
       "      <td>1</td>\n",
       "    </tr>\n",
       "    <tr>\n",
       "      <th>2</th>\n",
       "      <td>3000.0</td>\n",
       "      <td>0.0</td>\n",
       "      <td>66.0</td>\n",
       "      <td>360.0</td>\n",
       "      <td>1</td>\n",
       "      <td>1</td>\n",
       "      <td>1</td>\n",
       "      <td>1</td>\n",
       "      <td>0</td>\n",
       "      <td>0</td>\n",
       "      <td>0</td>\n",
       "      <td>1</td>\n",
       "      <td>1</td>\n",
       "      <td>0</td>\n",
       "      <td>0</td>\n",
       "      <td>1</td>\n",
       "      <td>1</td>\n",
       "    </tr>\n",
       "    <tr>\n",
       "      <th>3</th>\n",
       "      <td>2583.0</td>\n",
       "      <td>2358.0</td>\n",
       "      <td>120.0</td>\n",
       "      <td>360.0</td>\n",
       "      <td>1</td>\n",
       "      <td>1</td>\n",
       "      <td>1</td>\n",
       "      <td>1</td>\n",
       "      <td>0</td>\n",
       "      <td>0</td>\n",
       "      <td>0</td>\n",
       "      <td>0</td>\n",
       "      <td>0</td>\n",
       "      <td>0</td>\n",
       "      <td>0</td>\n",
       "      <td>1</td>\n",
       "      <td>1</td>\n",
       "    </tr>\n",
       "    <tr>\n",
       "      <th>4</th>\n",
       "      <td>6000.0</td>\n",
       "      <td>0.0</td>\n",
       "      <td>141.0</td>\n",
       "      <td>360.0</td>\n",
       "      <td>1</td>\n",
       "      <td>1</td>\n",
       "      <td>0</td>\n",
       "      <td>1</td>\n",
       "      <td>0</td>\n",
       "      <td>0</td>\n",
       "      <td>0</td>\n",
       "      <td>1</td>\n",
       "      <td>0</td>\n",
       "      <td>0</td>\n",
       "      <td>0</td>\n",
       "      <td>1</td>\n",
       "      <td>1</td>\n",
       "    </tr>\n",
       "  </tbody>\n",
       "</table>\n",
       "</div>"
      ],
      "text/plain": [
       "   ApplicantIncome  CoapplicantIncome  LoanAmount  Loan_Amount_Term  \\\n",
       "0           5849.0                0.0       128.0             360.0   \n",
       "1           4583.0             1508.0       128.0             360.0   \n",
       "2           3000.0                0.0        66.0             360.0   \n",
       "3           2583.0             2358.0       120.0             360.0   \n",
       "4           6000.0                0.0       141.0             360.0   \n",
       "\n",
       "   Loan_Status  Gender_Male  Married_Yes  Dependents_0  Dependents_1  \\\n",
       "0            1            1            0             1             0   \n",
       "1            0            1            1             0             1   \n",
       "2            1            1            1             1             0   \n",
       "3            1            1            1             1             0   \n",
       "4            1            1            0             1             0   \n",
       "\n",
       "   Dependents_2  Dependents_3+  Education_Graduate  Self_Employed_Yes  \\\n",
       "0             0              0                   1                  0   \n",
       "1             0              0                   1                  0   \n",
       "2             0              0                   1                  1   \n",
       "3             0              0                   0                  0   \n",
       "4             0              0                   1                  0   \n",
       "\n",
       "   Property_Area_Rural  Property_Area_Semiurban  Property_Area_Urban  \\\n",
       "0                    0                        0                    1   \n",
       "1                    1                        0                    0   \n",
       "2                    0                        0                    1   \n",
       "3                    0                        0                    1   \n",
       "4                    0                        0                    1   \n",
       "\n",
       "   Credit_History_Yes  \n",
       "0                   1  \n",
       "1                   1  \n",
       "2                   1  \n",
       "3                   1  \n",
       "4                   1  "
      ]
     },
     "execution_count": 57,
     "metadata": {},
     "output_type": "execute_result"
    }
   ],
   "source": [
    "df.head()"
   ]
  },
  {
   "cell_type": "code",
   "execution_count": 58,
   "id": "17ef029f-d922-447c-a401-c13099446f38",
   "metadata": {},
   "outputs": [
    {
     "name": "stdout",
     "output_type": "stream",
     "text": [
      "X shape:  (614, 16)\n",
      "y shape:  (614, 1)\n"
     ]
    }
   ],
   "source": [
    "# Definition our independed features (X) and depended feature (Target - y)\n",
    "X = df.drop('Loan_Status', axis = 1)\n",
    "y = df[['Loan_Status']]\n",
    "print(\"X shape: \", X.shape)\n",
    "print(\"y shape: \", y.shape)"
   ]
  },
  {
   "cell_type": "code",
   "execution_count": null,
   "id": "b741c94e-5ff2-4018-87de-83f07eae0f20",
   "metadata": {},
   "outputs": [],
   "source": []
  },
  {
   "cell_type": "code",
   "execution_count": 59,
   "id": "004a1c99-3236-4e92-ac33-7183873209c7",
   "metadata": {},
   "outputs": [
    {
     "data": {
      "text/plain": [
       "array([[ 0.49716393, -0.87458735, -0.16804076, ..., -0.7820157 ,\n",
       "         1.42814704,  0.41173269],\n",
       "       [-0.0137667 ,  0.05439458, -0.16804076, ..., -0.7820157 ,\n",
       "        -0.70020801,  0.41173269],\n",
       "       [-0.65263178, -0.87458735, -1.28046152, ..., -0.7820157 ,\n",
       "         1.42814704,  0.41173269],\n",
       "       ...,\n",
       "       [ 1.39431937, -0.72673876,  2.07474303, ..., -0.7820157 ,\n",
       "         1.42814704,  0.41173269],\n",
       "       [ 1.19696939, -0.87458735,  0.89055319, ..., -0.7820157 ,\n",
       "         1.42814704,  0.41173269],\n",
       "       [-0.0137667 , -0.87458735, -0.07832941, ...,  1.2787467 ,\n",
       "        -0.70020801, -2.42876026]])"
      ]
     },
     "execution_count": 59,
     "metadata": {},
     "output_type": "execute_result"
    }
   ],
   "source": [
    "# This method rescales the data so that the mean is 0 and the standard deviation is 1.\n",
    "sc = StandardScaler()\n",
    "scaled_X = sc.fit_transform(X)\n",
    "scaled_X"
   ]
  },
  {
   "cell_type": "code",
   "execution_count": null,
   "id": "52e50508-c142-4df8-ad91-8653df3c585b",
   "metadata": {},
   "outputs": [],
   "source": []
  },
  {
   "cell_type": "code",
   "execution_count": null,
   "id": "ea84e3d5-0250-414a-820e-fc94be34d5d3",
   "metadata": {},
   "outputs": [],
   "source": []
  },
  {
   "cell_type": "code",
   "execution_count": 108,
   "id": "08fcbcbe-64c2-4b95-83a1-a8f781091cf3",
   "metadata": {},
   "outputs": [
    {
     "name": "stdout",
     "output_type": "stream",
     "text": [
      "Shape of X_train:  (491, 16)\n",
      "Shape of X_test:  (123, 16)\n",
      "Shape of y_train:  (491, 1)\n",
      "Shape of y_test:  (123, 1)\n"
     ]
    }
   ],
   "source": [
    "# Train Test Split. Mostly test size is selected as 0.30 in most problems but in our problem, the dataset is not big enough. \n",
    "# For this reason I have used 20% of the dataset for testing\n",
    "X_train, X_test, y_train, y_test = train_test_split(scaled_X, y, test_size = 0.20, random_state = 42)\n",
    "print(\"Shape of X_train: \", X_train.shape)\n",
    "print(\"Shape of X_test: \", X_test.shape)\n",
    "print(\"Shape of y_train: \", y_train.shape)\n",
    "print(\"Shape of y_test: \", y_test.shape)"
   ]
  },
  {
   "cell_type": "code",
   "execution_count": null,
   "id": "c29de51b-eb65-4d53-9229-11916552f99e",
   "metadata": {},
   "outputs": [],
   "source": []
  },
  {
   "cell_type": "code",
   "execution_count": null,
   "id": "577914f0-474a-4670-8309-6572eef5d653",
   "metadata": {},
   "outputs": [],
   "source": []
  },
  {
   "cell_type": "markdown",
   "id": "3b91ba73-b088-40e8-88f4-c716f0278f73",
   "metadata": {},
   "source": [
    "## Prediction Step"
   ]
  },
  {
   "cell_type": "code",
   "execution_count": 152,
   "id": "2236f760-c5ee-4614-803b-83da964a73b8",
   "metadata": {},
   "outputs": [],
   "source": [
    "models = [ LogisticRegression,\n",
    "          GradientBoostingClassifier,\n",
    "          RandomForestClassifier,\n",
    "          DecisionTreeClassifier,\n",
    "          KNeighborsClassifier,\n",
    "          SVC,\n",
    "          LGBMClassifier]"
   ]
  },
  {
   "cell_type": "code",
   "execution_count": 153,
   "id": "546c02c7-0be3-42db-82b0-7671839ce139",
   "metadata": {},
   "outputs": [],
   "source": [
    "def MakePrediction(algorithm):\n",
    "    model = algorithm().fit(X_train, y_train)\n",
    "    print(algorithm.__name__, \" Train Score: \", model.score(X_train, y_train))\n",
    "    print(algorithm.__name__, \" Test Score: \", model.score(X_test, y_test))\n",
    "    print(\"_______________________________________________________________\")"
   ]
  },
  {
   "cell_type": "code",
   "execution_count": 154,
   "id": "8f2360c1-e21f-46fd-a647-b8ca7743b44e",
   "metadata": {},
   "outputs": [
    {
     "name": "stdout",
     "output_type": "stream",
     "text": [
      "GradientBoostingClassifier  Train Score:  0.8920570264765784\n",
      "GradientBoostingClassifier  Test Score:  0.7723577235772358\n",
      "_______________________________________________________________\n",
      "RandomForestClassifier  Train Score:  0.9979633401221996\n",
      "RandomForestClassifier  Test Score:  0.7723577235772358\n",
      "_______________________________________________________________\n",
      "DecisionTreeClassifier  Train Score:  0.9979633401221996\n",
      "DecisionTreeClassifier  Test Score:  0.7235772357723578\n",
      "_______________________________________________________________\n",
      "KNeighborsClassifier  Train Score:  0.8167006109979633\n",
      "KNeighborsClassifier  Test Score:  0.7073170731707317\n",
      "_______________________________________________________________\n",
      "SVC  Train Score:  0.8187372708757638\n",
      "SVC  Test Score:  0.7886178861788617\n",
      "_______________________________________________________________\n",
      "LGBMClassifier  Train Score:  0.9816700610997964\n",
      "LGBMClassifier  Test Score:  0.8048780487804879\n",
      "_______________________________________________________________\n",
      "LogisticRegression  Train Score:  0.814663951120163\n",
      "LogisticRegression  Test Score:  0.7886178861788617\n",
      "_______________________________________________________________\n"
     ]
    }
   ],
   "source": [
    "\n",
    "for i in models:\n",
    "    MakePrediction(i)"
   ]
  },
  {
   "cell_type": "code",
   "execution_count": null,
   "id": "84e912a6-173c-4ef8-8fa9-865c51dabfef",
   "metadata": {},
   "outputs": [],
   "source": []
  },
  {
   "cell_type": "markdown",
   "id": "7f0d3473-cf68-4604-a3cb-8819406ff450",
   "metadata": {},
   "source": [
    "### Tuning of Models (Hyperparameter tuning)"
   ]
  },
  {
   "cell_type": "markdown",
   "id": "d099ea61-2f6e-4fc8-8c7e-86c10ccae824",
   "metadata": {},
   "source": [
    "### LogisticRegression"
   ]
  },
  {
   "cell_type": "code",
   "execution_count": 112,
   "id": "a361b909-6159-42f7-aaae-7d7c4c63b9b5",
   "metadata": {},
   "outputs": [],
   "source": [
    "lr_model = LogisticRegression().fit(X_train, y_train)"
   ]
  },
  {
   "cell_type": "code",
   "execution_count": 113,
   "id": "833be752-e9be-417a-8a60-72442ede6b38",
   "metadata": {},
   "outputs": [
    {
     "data": {
      "text/plain": [
       "0.8064316635745208"
      ]
     },
     "execution_count": 113,
     "metadata": {},
     "output_type": "execute_result"
    }
   ],
   "source": [
    "cross_val_score(lr_model, X_train, y_train, cv = 5).mean()"
   ]
  },
  {
   "cell_type": "code",
   "execution_count": 114,
   "id": "d38a52ce-77a4-4a3d-a44a-7738703f955c",
   "metadata": {},
   "outputs": [
    {
     "data": {
      "text/plain": [
       "0.7333333333333333"
      ]
     },
     "execution_count": 114,
     "metadata": {},
     "output_type": "execute_result"
    }
   ],
   "source": [
    "val_lr = cross_val_score(lr_model, X_test, y_test, cv = 5).mean()\n",
    "val_lr"
   ]
  },
  {
   "cell_type": "code",
   "execution_count": null,
   "id": "82751377-46be-4538-a3ac-57391299c2e5",
   "metadata": {},
   "outputs": [],
   "source": []
  },
  {
   "cell_type": "markdown",
   "id": "0dc2da0e-8b8e-4f30-84de-aacee6f23ea0",
   "metadata": {},
   "source": [
    "### Gradien Boosting "
   ]
  },
  {
   "cell_type": "code",
   "execution_count": 121,
   "id": "ba18a2c4-db4b-4aba-af81-45c090ce7bd2",
   "metadata": {},
   "outputs": [
    {
     "name": "stdout",
     "output_type": "stream",
     "text": [
      "Fitting 5 folds for each of 108 candidates, totalling 540 fits\n"
     ]
    }
   ],
   "source": [
    "gbm_model = GradientBoostingClassifier()\n",
    "gbm_params = {\"learning_rate\": [0.1, 0.01, 0.001, 0.05],\n",
    "              \"n_estimators\": [100,500,1000],\n",
    "              \"max_depth\": [3,5,10],\n",
    "              \"min_samples_split\": [2, 5, 10]}\n",
    "\n",
    "gmb_cv_model = GridSearchCV(gbm_model, gbm_params, cv = 5, n_jobs = -1, verbose = 2).fit(X_train, y_train)"
   ]
  },
  {
   "cell_type": "code",
   "execution_count": 122,
   "id": "e9f0ad70-63e1-45b1-9ede-d466eb25b884",
   "metadata": {},
   "outputs": [
    {
     "data": {
      "text/plain": [
       "{'learning_rate': 0.001,\n",
       " 'max_depth': 3,\n",
       " 'min_samples_split': 2,\n",
       " 'n_estimators': 500}"
      ]
     },
     "execution_count": 122,
     "metadata": {},
     "output_type": "execute_result"
    }
   ],
   "source": [
    "gmb_cv_model.best_params_"
   ]
  },
  {
   "cell_type": "code",
   "execution_count": 123,
   "id": "38266229-4193-4374-bcd8-0a8541293f4c",
   "metadata": {},
   "outputs": [],
   "source": [
    "tuned_gbm = GradientBoostingClassifier(learning_rate = 0.001,\n",
    "                                       n_estimators = 500,\n",
    "                                       max_depth = 3,\n",
    "                                       min_samples_split = 2).fit(X_train, y_train)"
   ]
  },
  {
   "cell_type": "code",
   "execution_count": 124,
   "id": "7cf793b1-3680-449f-8f63-016d47818684",
   "metadata": {},
   "outputs": [
    {
     "name": "stdout",
     "output_type": "stream",
     "text": [
      "Train Score:  0.8167006109979633\n",
      "Test Score:  0.7479674796747967\n"
     ]
    }
   ],
   "source": [
    "print(\"Train Score: \", tuned_gbm.score(X_train, y_train))\n",
    "print(\"Test Score: \", tuned_gbm.score(X_test, y_test))"
   ]
  },
  {
   "cell_type": "code",
   "execution_count": null,
   "id": "7c31eaaf-cc47-4438-8ab4-39958eeba166",
   "metadata": {},
   "outputs": [],
   "source": []
  },
  {
   "cell_type": "markdown",
   "id": "a0c61fe1-2965-4325-ac01-9ed1cd4dd663",
   "metadata": {},
   "source": [
    "### Random Forest "
   ]
  },
  {
   "cell_type": "code",
   "execution_count": 125,
   "id": "d6b1d330-8c38-4ac0-be0c-16e848f9a42d",
   "metadata": {},
   "outputs": [
    {
     "name": "stdout",
     "output_type": "stream",
     "text": [
      "Fitting 5 folds for each of 108 candidates, totalling 540 fits\n"
     ]
    }
   ],
   "source": [
    "rf_model = RandomForestClassifier()\n",
    "rf_params = {\"max_depth\": [2, 5, 8, 10],\n",
    "             \"n_estimators\": [100, 500, 1000],\n",
    "             \"max_features\": [2,5,8],\n",
    "             \"min_samples_split\": [2,5,10]}\n",
    "\n",
    "rf_cv_model = GridSearchCV(rf_model, rf_params, cv = 5, n_jobs = -1, verbose = 2).fit(X_train, y_train)"
   ]
  },
  {
   "cell_type": "code",
   "execution_count": 126,
   "id": "d3e5e7fc-dae6-4e78-8a61-bb41327b8ac5",
   "metadata": {},
   "outputs": [
    {
     "data": {
      "text/plain": [
       "{'max_depth': 2,\n",
       " 'max_features': 5,\n",
       " 'min_samples_split': 2,\n",
       " 'n_estimators': 100}"
      ]
     },
     "execution_count": 126,
     "metadata": {},
     "output_type": "execute_result"
    }
   ],
   "source": [
    "rf_cv_model.best_params_"
   ]
  },
  {
   "cell_type": "code",
   "execution_count": 127,
   "id": "93260645-c579-463c-a120-637249b04903",
   "metadata": {},
   "outputs": [],
   "source": [
    "rf_tuned = RandomForestClassifier(max_depth = 2,\n",
    "                                  n_estimators = 100,\n",
    "                                  max_features = 5,\n",
    "                                  min_samples_split = 2).fit(X_train, y_train)"
   ]
  },
  {
   "cell_type": "code",
   "execution_count": 128,
   "id": "c13d37aa-2684-4654-bff5-789cadd50902",
   "metadata": {},
   "outputs": [
    {
     "name": "stdout",
     "output_type": "stream",
     "text": [
      "Train Score:  0.814663951120163\n",
      "Test Score:  0.7886178861788617\n"
     ]
    }
   ],
   "source": [
    "print(\"Train Score: \", rf_tuned.score(X_train, y_train))\n",
    "print(\"Test Score: \", rf_tuned.score(X_test, y_test))"
   ]
  },
  {
   "cell_type": "code",
   "execution_count": null,
   "id": "bc879270-671f-4ab8-b137-02113312f4fc",
   "metadata": {},
   "outputs": [],
   "source": []
  },
  {
   "cell_type": "code",
   "execution_count": null,
   "id": "c027a393-9742-42a4-b4f2-e86077b6eb79",
   "metadata": {},
   "outputs": [],
   "source": []
  },
  {
   "cell_type": "markdown",
   "id": "dd2de767-1ec6-4e4c-a70d-560955cdaefa",
   "metadata": {},
   "source": [
    "### DecisionTree"
   ]
  },
  {
   "cell_type": "code",
   "execution_count": 129,
   "id": "9af1028c-899d-4242-ad6d-180b8918e48f",
   "metadata": {},
   "outputs": [
    {
     "name": "stdout",
     "output_type": "stream",
     "text": [
      "Fitting 5 folds for each of 1728 candidates, totalling 8640 fits\n"
     ]
    }
   ],
   "source": [
    "dt_model = DecisionTreeClassifier()\n",
    "dt_params = {\"max_depth\": list(range(1,10)),\n",
    "             \"min_samples_split\": list(range(2,50)),\n",
    "             \"max_features\": [2, 5, 7, 10]}\n",
    "\n",
    "dt_cv_model = GridSearchCV(dt_model, dt_params, cv = 5, n_jobs = -1, verbose = 2).fit(X_train, y_train)"
   ]
  },
  {
   "cell_type": "code",
   "execution_count": 130,
   "id": "d135ca78-0f1c-4704-b2e8-6ea8b0c67e71",
   "metadata": {},
   "outputs": [
    {
     "data": {
      "text/plain": [
       "{'max_depth': 9, 'max_features': 5, 'min_samples_split': 48}"
      ]
     },
     "execution_count": 130,
     "metadata": {},
     "output_type": "execute_result"
    }
   ],
   "source": [
    "dt_cv_model.best_params_"
   ]
  },
  {
   "cell_type": "code",
   "execution_count": 131,
   "id": "ed91dda9-83e1-4cdb-a825-7db6b88a3864",
   "metadata": {},
   "outputs": [],
   "source": [
    "tuned_dt = DecisionTreeClassifier(max_depth = 9, max_features = 5, min_samples_split = 48).fit(X_train, y_train)"
   ]
  },
  {
   "cell_type": "code",
   "execution_count": 132,
   "id": "dd6839dd-3f57-44fe-9501-0003fa18fd11",
   "metadata": {},
   "outputs": [
    {
     "name": "stdout",
     "output_type": "stream",
     "text": [
      "Train Score:  0.824847250509165\n",
      "Test Score:  0.7967479674796748\n"
     ]
    }
   ],
   "source": [
    "print(\"Train Score: \", tuned_dt.score(X_train, y_train))\n",
    "print(\"Test Score: \", tuned_dt.score(X_test, y_test))"
   ]
  },
  {
   "cell_type": "code",
   "execution_count": null,
   "id": "68aac5c7-8786-4a60-977a-a8595c7a2474",
   "metadata": {},
   "outputs": [],
   "source": []
  },
  {
   "cell_type": "markdown",
   "id": "098b62be-28c0-450d-a54c-93ff9e60e55c",
   "metadata": {},
   "source": [
    "### KNeighbors"
   ]
  },
  {
   "cell_type": "code",
   "execution_count": 138,
   "id": "eaa81792-9a56-4537-8e6d-ce26832774cc",
   "metadata": {},
   "outputs": [],
   "source": [
    "knn_model = KNeighborsClassifier()\n",
    "knn_params = {\"n_neighbors\": np.arange(1,50)}\n",
    "\n",
    "knn_cv = GridSearchCV(knn_model, knn_params, cv = 5).fit(X_train, y_train)"
   ]
  },
  {
   "cell_type": "code",
   "execution_count": 139,
   "id": "3f7ea044-c7e2-4bff-bce9-5d12edf90fa3",
   "metadata": {},
   "outputs": [
    {
     "data": {
      "text/plain": [
       "{'n_neighbors': 10}"
      ]
     },
     "execution_count": 139,
     "metadata": {},
     "output_type": "execute_result"
    }
   ],
   "source": [
    "knn_cv.best_params_"
   ]
  },
  {
   "cell_type": "code",
   "execution_count": 140,
   "id": "d8afadf7-0e63-4118-bedd-5961df0ef6dd",
   "metadata": {},
   "outputs": [],
   "source": [
    "tuned_knn = KNeighborsClassifier(n_neighbors = 10).fit(X_train, y_train)"
   ]
  },
  {
   "cell_type": "code",
   "execution_count": 141,
   "id": "4eceb700-2ba1-421f-9316-28e430e01c76",
   "metadata": {},
   "outputs": [
    {
     "name": "stdout",
     "output_type": "stream",
     "text": [
      "Train Score:  0.8044806517311609\n",
      "Test Score:  0.6991869918699187\n"
     ]
    }
   ],
   "source": [
    "print(\"Train Score: \", tuned_knn.score(X_train, y_train))\n",
    "print(\"Test Score: \", tuned_knn.score(X_test, y_test))"
   ]
  },
  {
   "cell_type": "code",
   "execution_count": null,
   "id": "ac5a9d80-40cf-4298-9268-6fde5c6b7b5e",
   "metadata": {},
   "outputs": [],
   "source": []
  },
  {
   "cell_type": "markdown",
   "id": "0df6d8fb-6693-421e-8b60-226d1441fc92",
   "metadata": {},
   "source": [
    "### SVC "
   ]
  },
  {
   "cell_type": "code",
   "execution_count": 142,
   "id": "b53bff3e-ad7b-4013-9f70-be01f3cc0886",
   "metadata": {},
   "outputs": [
    {
     "name": "stdout",
     "output_type": "stream",
     "text": [
      "Fitting 5 folds for each of 18 candidates, totalling 90 fits\n"
     ]
    }
   ],
   "source": [
    "svm_model = SVC()\n",
    "svm_params = {\"C\": np.arange(1,10), \"kernel\": [\"linear\", \"rbf\"]}\n",
    "svm_cv_model = GridSearchCV(svm_model, svm_params, cv = 5, n_jobs = -1, verbose = 2).fit(X_train, y_train)"
   ]
  },
  {
   "cell_type": "code",
   "execution_count": 143,
   "id": "363bb555-49e5-4c49-9f1f-b27e14bb75f7",
   "metadata": {},
   "outputs": [
    {
     "data": {
      "text/plain": [
       "{'C': 1, 'kernel': 'linear'}"
      ]
     },
     "execution_count": 143,
     "metadata": {},
     "output_type": "execute_result"
    }
   ],
   "source": [
    "svm_cv_model.best_params_"
   ]
  },
  {
   "cell_type": "code",
   "execution_count": 144,
   "id": "5f9891fd-10ae-4f8e-8465-d5011e2cf426",
   "metadata": {},
   "outputs": [],
   "source": [
    "tuned_svm = SVC(C = 1, kernel = 'linear').fit(X_train, y_train)"
   ]
  },
  {
   "cell_type": "code",
   "execution_count": 145,
   "id": "b8b4a720-d7d9-4999-8c17-364b1970da9d",
   "metadata": {},
   "outputs": [
    {
     "name": "stdout",
     "output_type": "stream",
     "text": [
      "Train Score:  0.814663951120163\n",
      "Test Score:  0.7886178861788617\n"
     ]
    }
   ],
   "source": [
    "print(\"Train Score: \", tuned_svm.score(X_train, y_train))\n",
    "print(\"Test Score: \", tuned_svm.score(X_test, y_test))"
   ]
  },
  {
   "cell_type": "code",
   "execution_count": null,
   "id": "4f53a529-fc02-47ef-9522-1684b8828589",
   "metadata": {},
   "outputs": [],
   "source": []
  },
  {
   "cell_type": "markdown",
   "id": "6e1fbeaa-5d32-4c15-b09e-8a8dca615e53",
   "metadata": {},
   "source": [
    "###  LGBMClassifier"
   ]
  },
  {
   "cell_type": "code",
   "execution_count": 115,
   "id": "96913b5d-2919-4b25-988c-6975def82363",
   "metadata": {},
   "outputs": [
    {
     "name": "stdout",
     "output_type": "stream",
     "text": [
      "Fitting 5 folds for each of 900 candidates, totalling 4500 fits\n"
     ]
    }
   ],
   "source": [
    "lgbm_model =  LGBMClassifier()\n",
    "lgbm_params = {\"n_estimators\": [100,300, 500, 1000, 2000],\n",
    "              \"subsample\": [0.6, 0.8, 1],\n",
    "              \"max_depth\": [3, 4, 5, 6],\n",
    "              \"learning_rate\": [0.1,0.001, 0.01, 0.02, 0.05],\n",
    "              \"min_child_samples\": [5, 10, 20]}\n",
    "\n",
    "lgbm_cv = GridSearchCV(lgbm_model, lgbm_params, cv = 5, n_jobs = -1, verbose = 2).fit(X_train, y_train)"
   ]
  },
  {
   "cell_type": "code",
   "execution_count": 116,
   "id": "756bef5d-7c5e-4e47-9562-7560491c7ad1",
   "metadata": {},
   "outputs": [
    {
     "data": {
      "text/plain": [
       "{'learning_rate': 0.001,\n",
       " 'max_depth': 6,\n",
       " 'min_child_samples': 10,\n",
       " 'n_estimators': 1000,\n",
       " 'subsample': 0.6}"
      ]
     },
     "execution_count": 116,
     "metadata": {},
     "output_type": "execute_result"
    }
   ],
   "source": [
    "lgbm_cv.best_params_"
   ]
  },
  {
   "cell_type": "code",
   "execution_count": 117,
   "id": "814ed3e8-0816-4b1d-9977-679fc8dffa49",
   "metadata": {},
   "outputs": [],
   "source": [
    "tuned_lgbm = LGBMClassifier(n_estimators = 1000,\n",
    "                            subsample = 0.6,\n",
    "                            max_depth = 6,\n",
    "                            learning_rate = 0.001,\n",
    "                            min_child_samples = 10).fit(X_train, y_train) "
   ]
  },
  {
   "cell_type": "code",
   "execution_count": 118,
   "id": "2c70d89b-99a7-4931-ae16-55474df5f8a2",
   "metadata": {},
   "outputs": [
    {
     "name": "stdout",
     "output_type": "stream",
     "text": [
      "Train Score:  0.824847250509165\n",
      "Test Score:  0.7723577235772358\n"
     ]
    }
   ],
   "source": [
    "print(\"Train Score: \", tuned_lgbm.score(X_train, y_train))\n",
    "print(\"Test Score: \", tuned_lgbm.score(X_test, y_test))"
   ]
  },
  {
   "cell_type": "code",
   "execution_count": null,
   "id": "f17b9aff-476a-4d85-a8d1-d831c7772a28",
   "metadata": {},
   "outputs": [],
   "source": []
  },
  {
   "cell_type": "markdown",
   "id": "bd59dcd5-392d-427c-a4ba-df800219e29d",
   "metadata": {},
   "source": [
    "### Comparision of Tuned Models"
   ]
  },
  {
   "cell_type": "code",
   "execution_count": 155,
   "id": "24415517-67ec-45db-ab2b-e26575963d97",
   "metadata": {},
   "outputs": [],
   "source": [
    "tuned_models = [\"Validated Logistic Regression\",\n",
    "                \"Tuned Gradient Boosting\",\n",
    "                \"Tuned Random Forest\",\n",
    "                \"Tuned Decision Tree\",\n",
    "                \"Tuned KNN\", \n",
    "                \"Tuned SVM\", \n",
    "                \"Tuned LightGBM\"] \n",
    "\n",
    "test_scores = [val_lr,\n",
    "               tuned_gbm.score(X_test, y_test),\n",
    "               rf_tuned.score(X_test, y_test),\n",
    "               tuned_dt.score(X_test, y_test),\n",
    "               tuned_knn.score(X_test, y_test),\n",
    "               tuned_svm.score(X_test, y_test),\n",
    "               tuned_lgbm.score(X_test, y_test)]"
   ]
  },
  {
   "cell_type": "code",
   "execution_count": 156,
   "id": "539c4f17-4244-4b2c-9a35-75316fb2a076",
   "metadata": {},
   "outputs": [
    {
     "data": {
      "text/html": [
       "<div>\n",
       "<style scoped>\n",
       "    .dataframe tbody tr th:only-of-type {\n",
       "        vertical-align: middle;\n",
       "    }\n",
       "\n",
       "    .dataframe tbody tr th {\n",
       "        vertical-align: top;\n",
       "    }\n",
       "\n",
       "    .dataframe thead th {\n",
       "        text-align: right;\n",
       "    }\n",
       "</style>\n",
       "<table border=\"1\" class=\"dataframe\">\n",
       "  <thead>\n",
       "    <tr style=\"text-align: right;\">\n",
       "      <th></th>\n",
       "      <th>Test Score</th>\n",
       "    </tr>\n",
       "  </thead>\n",
       "  <tbody>\n",
       "    <tr>\n",
       "      <th>Tuned Decision Tree</th>\n",
       "      <td>0.796748</td>\n",
       "    </tr>\n",
       "    <tr>\n",
       "      <th>Tuned Random Forest</th>\n",
       "      <td>0.788618</td>\n",
       "    </tr>\n",
       "    <tr>\n",
       "      <th>Tuned SVM</th>\n",
       "      <td>0.788618</td>\n",
       "    </tr>\n",
       "    <tr>\n",
       "      <th>Tuned LightGBM</th>\n",
       "      <td>0.772358</td>\n",
       "    </tr>\n",
       "    <tr>\n",
       "      <th>Tuned Gradient Boosting</th>\n",
       "      <td>0.747967</td>\n",
       "    </tr>\n",
       "    <tr>\n",
       "      <th>Validated Logistic Regression</th>\n",
       "      <td>0.733333</td>\n",
       "    </tr>\n",
       "    <tr>\n",
       "      <th>Tuned KNN</th>\n",
       "      <td>0.699187</td>\n",
       "    </tr>\n",
       "  </tbody>\n",
       "</table>\n",
       "</div>"
      ],
      "text/plain": [
       "                               Test Score\n",
       "Tuned Decision Tree              0.796748\n",
       "Tuned Random Forest              0.788618\n",
       "Tuned SVM                        0.788618\n",
       "Tuned LightGBM                   0.772358\n",
       "Tuned Gradient Boosting          0.747967\n",
       "Validated Logistic Regression    0.733333\n",
       "Tuned KNN                        0.699187"
      ]
     },
     "execution_count": 156,
     "metadata": {},
     "output_type": "execute_result"
    }
   ],
   "source": [
    "# The best accurate model is Decision Tree for this dataset\n",
    "tuned_results = pd.DataFrame(test_scores, columns = [\"Test Score\"], index = tuned_models)\n",
    "tuned_results.sort_values(by = 'Test Score', ascending = False)"
   ]
  },
  {
   "cell_type": "code",
   "execution_count": 157,
   "id": "34ff02ad-6d76-4422-b070-b43b68d77cb9",
   "metadata": {},
   "outputs": [
    {
     "data": {
      "image/png": "[encoded data removed]",
      "text/plain": [
       "<Figure size 432x288 with 1 Axes>"
      ]
     },
     "metadata": {
      "needs_background": "light"
     },
     "output_type": "display_data"
    }
   ],
   "source": [
    "sns.barplot(x = tuned_results[\"Test Score\"], y = tuned_results.index);\n",
    "\n",
    "plt.xlabel(\"Test Scores of Each Models\")\n",
    "plt.ylabel(\"Model Names\")\n",
    "plt.title(\"Performance of Tuned Models \")\n",
    "plt.show()"
   ]
  },
  {
   "cell_type": "code",
   "execution_count": 164,
   "id": "28ac95b0-d5dd-4e85-bfed-bb61a3fe3263",
   "metadata": {},
   "outputs": [
    {
     "data": {
      "image/png": "[encoded data removed]",
      "text/plain": [
       "<Figure size 432x288 with 1 Axes>"
      ]
     },
     "metadata": {
      "needs_background": "light"
     },
     "output_type": "display_data"
    }
   ],
   "source": [
    "# As we can see the best result belongs to Decision Tree with 0.796748 accuracy score  after hyperparameter tunning.\n",
    "# Also we can improve our results expanding dataset.\n",
    "# In the Loan_Status, the number of 'No' values is very little, for this reason our models can not learn characteristics of this values very well.\n",
    "# I think in this way our models can not classify 'No' values with high accuracy\n",
    "\n",
    "cm = confusion_matrix(y_test, tuned_dt.predict(X_test))\n",
    "ax = sns.heatmap(cm, annot = True, cbar = False, fmt = 'g');\n",
    "ax.set_xlabel('Predicted Labels',fontsize = 15)\n",
    "ax.set_ylabel('True Labels',fontsize = 15)\n",
    "ax.set_title('Decision Tree Classifier')\n",
    "plt.show()"
   ]
  },
  {
   "cell_type": "code",
   "execution_count": 160,
   "id": "24e11da2-1b67-431e-a86e-4293284865bf",
   "metadata": {},
   "outputs": [
    {
     "name": "stdout",
     "output_type": "stream",
     "text": [
      "              precision    recall  f1-score   support\n",
      "\n",
      "           0       0.91      0.47      0.62        43\n",
      "           1       0.77      0.97      0.86        80\n",
      "\n",
      "    accuracy                           0.80       123\n",
      "   macro avg       0.84      0.72      0.74       123\n",
      "weighted avg       0.82      0.80      0.78       123\n",
      "\n"
     ]
    }
   ],
   "source": [
    "print(classification_report(y_test, tuned_dt.predict(X_test)))"
   ]
  },
  {
   "cell_type": "code",
   "execution_count": 165,
   "id": "dcef0837-fd54-47fd-b4d5-16afc3ac8175",
   "metadata": {},
   "outputs": [
    {
     "data": {
      "image/png": "[encoded data removed]",
      "text/plain": [
       "<Figure size 432x288 with 1 Axes>"
      ]
     },
     "metadata": {
      "needs_background": "light"
     },
     "output_type": "display_data"
    }
   ],
   "source": [
    "# Also we can see the most informative feature is Credit_History_Yes for Decision Tree Classifier\n",
    "importances = pd.Series(tuned_dt.feature_importances_,\n",
    "                            index = X.columns).sort_values(ascending = False)\n",
    "\n",
    "sns.barplot(x = importances, y = importances.index)\n",
    "plt.xlabel(\"Feature Importance Values\")\n",
    "plt.ylabel(\"Features\")\n",
    "plt.title(\"Feature Importances\")\n",
    "plt.show()"
   ]
  },
  {
   "cell_type": "code",
   "execution_count": null,
   "id": "e08df005-6400-4fd7-aa06-faae76580062",
   "metadata": {},
   "outputs": [],
   "source": []
  },
  {
   "cell_type": "code",
   "execution_count": null,
   "id": "012e1701-da84-4f9d-a9b2-14fe6b893415",
   "metadata": {},
   "outputs": [],
   "source": []
  },
  {
   "cell_type": "code",
   "execution_count": null,
   "id": "ac871842-9e0d-458d-b832-4ccb0b42e351",
   "metadata": {},
   "outputs": [],
   "source": []
  },
  {
   "cell_type": "code",
   "execution_count": null,
   "id": "b2cef4a9-569f-4c4c-92ea-2168a4d4b22b",
   "metadata": {},
   "outputs": [],
   "source": []
  }
 ],
 "metadata": {
  "kernelspec": {
   "display_name": "Python 3",
   "language": "python",
   "name": "python3"
  },
  "language_info": {
   "codemirror_mode": {
    "name": "ipython",
    "version": 3
   },
   "file_extension": ".py",
   "mimetype": "text/x-python",
   "name": "python",
   "nbconvert_exporter": "python",
   "pygments_lexer": "ipython3",
   "version": "3.7.4"
  }
 },
 "nbformat": 4,
 "nbformat_minor": 5
}
